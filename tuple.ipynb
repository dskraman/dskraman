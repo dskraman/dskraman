{
 "cells": [
  {
   "cell_type": "code",
   "execution_count": 2,
   "id": "daa4bced-e9fb-4b1a-a68f-176839e4ce54",
   "metadata": {},
   "outputs": [],
   "source": [
    "a=[\"kiran\", \"25\", \"Chennai\"]"
   ]
  },
  {
   "cell_type": "code",
   "execution_count": 3,
   "id": "0e3a258a-71a3-4907-82c1-8efa63a95e7f",
   "metadata": {},
   "outputs": [
    {
     "name": "stdout",
     "output_type": "stream",
     "text": [
      "<class 'list'>\n"
     ]
    }
   ],
   "source": [
    "print(type(a))"
   ]
  },
  {
   "cell_type": "code",
   "execution_count": 4,
   "id": "e4a88544-8f74-4b58-b1ac-60654d055626",
   "metadata": {},
   "outputs": [
    {
     "ename": "AttributeError",
     "evalue": "'list' object has no attribute 'list'",
     "output_type": "error",
     "traceback": [
      "\u001b[1;31m---------------------------------------------------------------------------\u001b[0m",
      "\u001b[1;31mAttributeError\u001b[0m                            Traceback (most recent call last)",
      "\u001b[1;32m~\\AppData\\Local\\Temp\\ipykernel_8820\\2553847532.py\u001b[0m in \u001b[0;36m<module>\u001b[1;34m\u001b[0m\n\u001b[1;32m----> 1\u001b[1;33m \u001b[0mprint\u001b[0m\u001b[1;33m(\u001b[0m\u001b[0misinstance\u001b[0m\u001b[1;33m(\u001b[0m\u001b[0ma\u001b[0m\u001b[1;33m.\u001b[0m\u001b[0mlist\u001b[0m\u001b[1;33m)\u001b[0m\u001b[1;33m)\u001b[0m\u001b[1;33m\u001b[0m\u001b[1;33m\u001b[0m\u001b[0m\n\u001b[0m",
      "\u001b[1;31mAttributeError\u001b[0m: 'list' object has no attribute 'list'"
     ]
    }
   ],
   "source": [
    "print(isinstance(a.list))"
   ]
  },
  {
   "cell_type": "code",
   "execution_count": 5,
   "id": "b5d3a2ac-739c-4032-91b4-5dbe4986c6c6",
   "metadata": {},
   "outputs": [
    {
     "name": "stdout",
     "output_type": "stream",
     "text": [
      "True\n"
     ]
    }
   ],
   "source": [
    "print(isinstance(a,list))"
   ]
  },
  {
   "cell_type": "code",
   "execution_count": 10,
   "id": "36f12c68-c97a-44ce-aa88-713917560605",
   "metadata": {},
   "outputs": [
    {
     "name": "stdout",
     "output_type": "stream",
     "text": [
      "3\n",
      "25\n",
      "kiran\n",
      "['25', 'Chennai', 'kiran']\n",
      "kiran\n",
      "['Chennai', '25', 'kiran']\n"
     ]
    }
   ],
   "source": [
    "print(len(a))\n",
    "print(min(a))\n",
    "print(max(a))\n",
    "print(sorted(a))\n",
    "print(a[0])\n",
    "print(a[::-1])"
   ]
  },
  {
   "cell_type": "code",
   "execution_count": 11,
   "id": "d41c27cb-f772-4d3f-9c0a-38da959330ec",
   "metadata": {},
   "outputs": [
    {
     "name": "stdout",
     "output_type": "stream",
     "text": [
      "['a', 'c', 'h', 'i', 'n', 's']\n"
     ]
    }
   ],
   "source": [
    "a=\"sachin\"\n",
    "print(sorted(a))"
   ]
  },
  {
   "cell_type": "code",
   "execution_count": 12,
   "id": "4d4b0c88-d443-4468-9013-e3d2693f6c37",
   "metadata": {},
   "outputs": [],
   "source": [
    "a=[100, 5, 60,54]\n",
    "#add one number\n",
    "a.append(2000)"
   ]
  },
  {
   "cell_type": "code",
   "execution_count": 13,
   "id": "97ace6db-0c55-4287-a25a-a026c50250be",
   "metadata": {},
   "outputs": [
    {
     "name": "stdout",
     "output_type": "stream",
     "text": [
      "[100, 5, 60, 54, 2000]\n"
     ]
    }
   ],
   "source": [
    "print(a)"
   ]
  },
  {
   "cell_type": "code",
   "execution_count": 14,
   "id": "46b8ac7a-bbe7-4bff-8dff-740f8615b76f",
   "metadata": {},
   "outputs": [
    {
     "name": "stdout",
     "output_type": "stream",
     "text": [
      "[100, 5, 5000, 60, 54, 2000]\n"
     ]
    }
   ],
   "source": [
    "a.insert(2,5000)\n",
    "print(a)"
   ]
  },
  {
   "cell_type": "code",
   "execution_count": 15,
   "id": "0a2a8fa3-67fa-4340-9b0f-0c9e5ee1affc",
   "metadata": {},
   "outputs": [],
   "source": [
    "a.remove(60)"
   ]
  },
  {
   "cell_type": "code",
   "execution_count": 16,
   "id": "d9154371-2ae7-4972-8c58-4445289ebc3c",
   "metadata": {},
   "outputs": [
    {
     "name": "stdout",
     "output_type": "stream",
     "text": [
      "[100, 5, 5000, 54, 2000]\n"
     ]
    }
   ],
   "source": [
    "print(a)"
   ]
  },
  {
   "cell_type": "code",
   "execution_count": 17,
   "id": "2bd57aa7-bd9d-4340-ac37-7729fd9ee56c",
   "metadata": {},
   "outputs": [
    {
     "name": "stdout",
     "output_type": "stream",
     "text": [
      "[100, 5000, 54, 2000]\n"
     ]
    }
   ],
   "source": [
    "del a[1]  #remove second value\n",
    "print (a)"
   ]
  },
  {
   "cell_type": "code",
   "execution_count": 18,
   "id": "27df691d-cd0a-45cb-8cb3-fe30808fe0a1",
   "metadata": {},
   "outputs": [
    {
     "name": "stdout",
     "output_type": "stream",
     "text": [
      "[100, 5000, 54]\n",
      "2000\n"
     ]
    }
   ],
   "source": [
    "b=a.pop() #remove last and assign to another variable\n",
    "print (a)\n",
    "print (b)"
   ]
  },
  {
   "cell_type": "code",
   "execution_count": 19,
   "id": "dfbbdace-0c9e-43d5-8563-9576af03d52b",
   "metadata": {},
   "outputs": [
    {
     "name": "stdout",
     "output_type": "stream",
     "text": [
      "[1, 2, 3, [4, 5, 6]]\n"
     ]
    }
   ],
   "source": [
    "a = [1,2,3]\n",
    "b = [4,5,6]\n",
    "a.append(b)\n",
    "print (a)"
   ]
  },
  {
   "cell_type": "code",
   "execution_count": 20,
   "id": "fbd5f36a-c126-4a01-9e9a-800a93425b7b",
   "metadata": {},
   "outputs": [
    {
     "name": "stdout",
     "output_type": "stream",
     "text": [
      "[1, 2, 3, 4, 5, 6]\n"
     ]
    }
   ],
   "source": [
    "a = [1,2,3]  #difference between append and extend\n",
    "b = [4,5,6]\n",
    "a.extend(b)\n",
    "print (a)"
   ]
  },
  {
   "cell_type": "code",
   "execution_count": 21,
   "id": "9db63d80-309e-448d-8b8a-e4837c6386b1",
   "metadata": {},
   "outputs": [
    {
     "name": "stdout",
     "output_type": "stream",
     "text": [
      "[1, 2, 3, 4, 5, 6]\n"
     ]
    }
   ],
   "source": [
    "a = [1,2,3]\n",
    "b = [4,5,6]\n",
    "print (a+b)"
   ]
  },
  {
   "cell_type": "code",
   "execution_count": 22,
   "id": "db532532-4387-40fd-8aee-547ef87adb15",
   "metadata": {},
   "outputs": [],
   "source": [
    "## Copy in python"
   ]
  },
  {
   "cell_type": "code",
   "execution_count": 23,
   "id": "196491e6-04fb-4e20-8297-5e46e0fe229c",
   "metadata": {},
   "outputs": [
    {
     "name": "stdout",
     "output_type": "stream",
     "text": [
      "[1, 2, 3, 4]\n",
      "[1, 2, 3, 4]\n"
     ]
    }
   ],
   "source": [
    "#shallow copy  shared memory\n",
    "a=[1,2,3]\n",
    "b=a\n",
    "a.append(4)\n",
    "print (a)\n",
    "print (b)"
   ]
  },
  {
   "cell_type": "code",
   "execution_count": 24,
   "id": "8aaa9591-053b-497c-8e2a-297466830986",
   "metadata": {},
   "outputs": [
    {
     "name": "stdout",
     "output_type": "stream",
     "text": [
      "[1, 2, 3, 4]\n",
      "[1, 2, 3]\n"
     ]
    }
   ],
   "source": [
    "#deep copy  different memeory\n",
    "a=[1,2,3]\n",
    "b=a.copy()\n",
    "a.append(4)\n",
    "print (a)\n",
    "print (b)"
   ]
  },
  {
   "cell_type": "code",
   "execution_count": 25,
   "id": "313aff44-3084-4d3b-8af1-59937b3f53f6",
   "metadata": {},
   "outputs": [
    {
     "name": "stdout",
     "output_type": "stream",
     "text": [
      "[3, 2, 1]\n"
     ]
    }
   ],
   "source": [
    "a=[1,2,3]\n",
    "a.reverse() #only for list\n",
    "print(a)"
   ]
  },
  {
   "cell_type": "code",
   "execution_count": 26,
   "id": "ecc28d7f-2353-451a-89f4-977b12b9e3c1",
   "metadata": {},
   "outputs": [
    {
     "data": {
      "text/plain": [
       "[3, 2, 1]"
      ]
     },
     "execution_count": 26,
     "metadata": {},
     "output_type": "execute_result"
    }
   ],
   "source": [
    "a[0:3]"
   ]
  },
  {
   "cell_type": "code",
   "execution_count": 27,
   "id": "d49ebae3-874e-4afa-a4d7-1dd1f6183671",
   "metadata": {},
   "outputs": [
    {
     "data": {
      "text/plain": [
       "1"
      ]
     },
     "execution_count": 27,
     "metadata": {},
     "output_type": "execute_result"
    }
   ],
   "source": [
    "a.index(2)"
   ]
  },
  {
   "cell_type": "code",
   "execution_count": 28,
   "id": "7829b414-f768-47bd-9ff8-670dbb98ec15",
   "metadata": {},
   "outputs": [
    {
     "ename": "AttributeError",
     "evalue": "'list' object has no attribute 'rfind'",
     "output_type": "error",
     "traceback": [
      "\u001b[1;31m---------------------------------------------------------------------------\u001b[0m",
      "\u001b[1;31mAttributeError\u001b[0m                            Traceback (most recent call last)",
      "\u001b[1;32m~\\AppData\\Local\\Temp\\ipykernel_8820\\3756988246.py\u001b[0m in \u001b[0;36m<module>\u001b[1;34m\u001b[0m\n\u001b[1;32m----> 1\u001b[1;33m \u001b[0ma\u001b[0m\u001b[1;33m.\u001b[0m\u001b[0mrfind\u001b[0m\u001b[1;33m(\u001b[0m\u001b[1;36m2\u001b[0m\u001b[1;33m)\u001b[0m \u001b[1;31m# wont work. index only supported in list.  rindex, find, rfind is not supported\u001b[0m\u001b[1;33m\u001b[0m\u001b[1;33m\u001b[0m\u001b[0m\n\u001b[0m",
      "\u001b[1;31mAttributeError\u001b[0m: 'list' object has no attribute 'rfind'"
     ]
    }
   ],
   "source": [
    "a.rfind(2) # wont work. index only supported in list.  rindex, find, rfind is not supported"
   ]
  },
  {
   "cell_type": "code",
   "execution_count": 29,
   "id": "4e2beaf8-1408-4484-90f8-948117ebeef3",
   "metadata": {},
   "outputs": [],
   "source": [
    "a = [[\"koram\", \"25\", \"chennai\"], [\"kumar\", \"22\", \"mdu\"]]"
   ]
  },
  {
   "cell_type": "code",
   "execution_count": 30,
   "id": "7ab801d9-7d04-4bd0-81b9-b3cd5b4b66a2",
   "metadata": {},
   "outputs": [
    {
     "name": "stdout",
     "output_type": "stream",
     "text": [
      "[['koram', '25', 'chennai'], ['kumar', '22', 'mdu']]\n"
     ]
    }
   ],
   "source": [
    "print (a)"
   ]
  },
  {
   "cell_type": "code",
   "execution_count": 31,
   "id": "e3a06ea6-ee8a-4e48-bf0f-0734d7921bfc",
   "metadata": {},
   "outputs": [
    {
     "ename": "SyntaxError",
     "evalue": "invalid syntax (216121543.py, line 1)",
     "output_type": "error",
     "traceback": [
      "\u001b[1;36m  File \u001b[1;32m\"C:\\Users\\Koram\\AppData\\Local\\Temp\\ipykernel_8820\\216121543.py\"\u001b[1;36m, line \u001b[1;32m1\u001b[0m\n\u001b[1;33m    print a([0:2])\u001b[0m\n\u001b[1;37m          ^\u001b[0m\n\u001b[1;31mSyntaxError\u001b[0m\u001b[1;31m:\u001b[0m invalid syntax\n"
     ]
    }
   ],
   "source": [
    "print a([0:2])"
   ]
  },
  {
   "cell_type": "code",
   "execution_count": 32,
   "id": "1a79ea81-d246-4e39-858d-43af33817ced",
   "metadata": {},
   "outputs": [
    {
     "ename": "SyntaxError",
     "evalue": "invalid syntax (3534020001.py, line 1)",
     "output_type": "error",
     "traceback": [
      "\u001b[1;36m  File \u001b[1;32m\"C:\\Users\\Koram\\AppData\\Local\\Temp\\ipykernel_8820\\3534020001.py\"\u001b[1;36m, line \u001b[1;32m1\u001b[0m\n\u001b[1;33m    print a([0,2])\u001b[0m\n\u001b[1;37m          ^\u001b[0m\n\u001b[1;31mSyntaxError\u001b[0m\u001b[1;31m:\u001b[0m invalid syntax\n"
     ]
    }
   ],
   "source": [
    "print a([0,2])"
   ]
  },
  {
   "cell_type": "code",
   "execution_count": 33,
   "id": "c7d31733-878d-4019-809b-e0c21f986a26",
   "metadata": {},
   "outputs": [
    {
     "name": "stdout",
     "output_type": "stream",
     "text": [
      "['koram', '25', 'chennai']\n"
     ]
    }
   ],
   "source": [
    "print (a[0])"
   ]
  },
  {
   "cell_type": "code",
   "execution_count": 34,
   "id": "dd810881-20dc-4f16-a563-fb2065a29298",
   "metadata": {},
   "outputs": [
    {
     "name": "stdout",
     "output_type": "stream",
     "text": [
      "25\n"
     ]
    }
   ],
   "source": [
    "print (a[0][1])"
   ]
  },
  {
   "cell_type": "code",
   "execution_count": 36,
   "id": "80d7f688-6b0f-4b28-8d77-4308737e3c14",
   "metadata": {},
   "outputs": [
    {
     "name": "stdout",
     "output_type": "stream",
     "text": [
      "<class 'tuple'>\n"
     ]
    }
   ],
   "source": [
    "a = (1,2,3)\n",
    "print(type(a))"
   ]
  },
  {
   "cell_type": "code",
   "execution_count": 37,
   "id": "b3770853-f021-4bbd-931c-9cb02d8c7645",
   "metadata": {},
   "outputs": [
    {
     "name": "stdout",
     "output_type": "stream",
     "text": [
      "False\n"
     ]
    }
   ],
   "source": [
    "print(isinstance(a,list))"
   ]
  },
  {
   "cell_type": "code",
   "execution_count": 38,
   "id": "05fad521-50fa-449f-bc46-b66bfb124b69",
   "metadata": {},
   "outputs": [
    {
     "name": "stdout",
     "output_type": "stream",
     "text": [
      "(1, 2, 3)\n"
     ]
    }
   ],
   "source": [
    "#Tuple \n",
    "b=a  # shallow copy only\n",
    "print(b)"
   ]
  },
  {
   "cell_type": "code",
   "execution_count": 39,
   "id": "e06e8b98-fb46-4029-bbf2-3ea5016d220d",
   "metadata": {},
   "outputs": [],
   "source": [
    "#copy, insert won't work in tuple"
   ]
  },
  {
   "cell_type": "code",
   "execution_count": 40,
   "id": "af6cee26-2f79-432a-83bd-6d31da9566a6",
   "metadata": {},
   "outputs": [
    {
     "name": "stdout",
     "output_type": "stream",
     "text": [
      "<class 'set'>\n"
     ]
    }
   ],
   "source": [
    "a = {1,2,3}\n",
    "print(type(a))"
   ]
  },
  {
   "cell_type": "code",
   "execution_count": 42,
   "id": "d280ad28-392d-47b5-9998-722b75a1ad30",
   "metadata": {},
   "outputs": [
    {
     "name": "stdout",
     "output_type": "stream",
     "text": [
      "True\n"
     ]
    }
   ],
   "source": [
    "print(isinstance(a,set))"
   ]
  },
  {
   "cell_type": "code",
   "execution_count": 45,
   "id": "e21e8010-b0ab-47b2-b416-923470f9c374",
   "metadata": {},
   "outputs": [
    {
     "name": "stdout",
     "output_type": "stream",
     "text": [
      "{1, 2, 3}\n"
     ]
    }
   ],
   "source": [
    "a = {1,1,1,2,2,2,3,3,3}\n",
    "print (a)"
   ]
  },
  {
   "cell_type": "code",
   "execution_count": 46,
   "id": "68017f2c-f54e-43cf-bcf0-283aeb042ed8",
   "metadata": {},
   "outputs": [],
   "source": [
    "a = [\"test\", \"test\", \"try\", \"hello\", \"hello\"]"
   ]
  },
  {
   "cell_type": "code",
   "execution_count": 47,
   "id": "343bc487-c33c-4e05-acc0-72a795cc474d",
   "metadata": {},
   "outputs": [
    {
     "name": "stdout",
     "output_type": "stream",
     "text": [
      "{'test', 'try', 'hello'}\n",
      "['test', 'test', 'try', 'hello', 'hello']\n",
      "('test', 'test', 'try', 'hello', 'hello')\n"
     ]
    }
   ],
   "source": [
    "print(set(a))\n",
    "print(list(a))\n",
    "print(tuple(a))"
   ]
  },
  {
   "cell_type": "code",
   "execution_count": 48,
   "id": "52eed477-e5c3-4942-87e1-431a3859e582",
   "metadata": {},
   "outputs": [
    {
     "name": "stdout",
     "output_type": "stream",
     "text": [
      "('test', 'try', 'hello')\n"
     ]
    }
   ],
   "source": [
    "print(tuple(set(a)))"
   ]
  },
  {
   "cell_type": "code",
   "execution_count": 49,
   "id": "fd326247-95d6-4e2c-b7a3-8b870f37d8d7",
   "metadata": {},
   "outputs": [
    {
     "name": "stdout",
     "output_type": "stream",
     "text": [
      "{50, 20, 5, 6, 200, 10}\n"
     ]
    }
   ],
   "source": [
    "a={50,20,10,5,6,200}\n",
    "print(a)"
   ]
  },
  {
   "cell_type": "code",
   "execution_count": 50,
   "id": "5ecba599-b688-4170-b69c-9e63aa8b4586",
   "metadata": {},
   "outputs": [
    {
     "ename": "TypeError",
     "evalue": "'set' object is not subscriptable",
     "output_type": "error",
     "traceback": [
      "\u001b[1;31m---------------------------------------------------------------------------\u001b[0m",
      "\u001b[1;31mTypeError\u001b[0m                                 Traceback (most recent call last)",
      "\u001b[1;32m~\\AppData\\Local\\Temp\\ipykernel_8820\\4237971570.py\u001b[0m in \u001b[0;36m<module>\u001b[1;34m\u001b[0m\n\u001b[1;32m----> 1\u001b[1;33m \u001b[0mprint\u001b[0m \u001b[1;33m(\u001b[0m\u001b[0ma\u001b[0m\u001b[1;33m[\u001b[0m\u001b[1;36m0\u001b[0m\u001b[1;33m]\u001b[0m\u001b[1;33m)\u001b[0m \u001b[1;31m#index won't work in set\u001b[0m\u001b[1;33m\u001b[0m\u001b[1;33m\u001b[0m\u001b[0m\n\u001b[0m",
      "\u001b[1;31mTypeError\u001b[0m: 'set' object is not subscriptable"
     ]
    }
   ],
   "source": [
    "print (a[0]) #index won't work in set"
   ]
  },
  {
   "cell_type": "code",
   "execution_count": 51,
   "id": "8030f50f-2f36-4913-88e1-528ad4e5a020",
   "metadata": {},
   "outputs": [
    {
     "name": "stdout",
     "output_type": "stream",
     "text": [
      "{1, 2, 3, 5}\n"
     ]
    }
   ],
   "source": [
    "a={1,2,3}\n",
    "a.add(5)\n",
    "print(a)"
   ]
  },
  {
   "cell_type": "code",
   "execution_count": 52,
   "id": "c0745c42-0f3c-4164-9079-00a53f10c0b1",
   "metadata": {},
   "outputs": [
    {
     "name": "stdout",
     "output_type": "stream",
     "text": [
      "{1, 2, 5}\n"
     ]
    }
   ],
   "source": [
    "a.remove(3)\n",
    "print(a)"
   ]
  },
  {
   "cell_type": "code",
   "execution_count": 53,
   "id": "86928188-4538-487d-b57e-0bddff9d6f84",
   "metadata": {},
   "outputs": [
    {
     "name": "stdout",
     "output_type": "stream",
     "text": [
      "1\n",
      "{2, 5}\n"
     ]
    }
   ],
   "source": [
    "b=a.pop()  #first element out\n",
    "print(b)\n",
    "print(a)"
   ]
  },
  {
   "cell_type": "code",
   "execution_count": 54,
   "id": "f6a26ead-64bd-42f9-8861-fbe673be6597",
   "metadata": {},
   "outputs": [],
   "source": [
    "###\n",
    "a = {1,2,3,4,5}\n",
    "b= {4,5,6,7,8}"
   ]
  },
  {
   "cell_type": "code",
   "execution_count": 55,
   "id": "a7a37118-27c8-49fb-8c8b-239cbadff921",
   "metadata": {},
   "outputs": [
    {
     "name": "stdout",
     "output_type": "stream",
     "text": [
      "{1, 2, 3, 4, 5, 6, 7, 8}\n",
      "{1, 2, 3, 4, 5, 6, 7, 8}\n"
     ]
    }
   ],
   "source": [
    "print (a.union(b))\n",
    "print (a | b)"
   ]
  },
  {
   "cell_type": "code",
   "execution_count": 56,
   "id": "6402dde6-ca02-4ebf-bed8-979cb8dcab31",
   "metadata": {},
   "outputs": [
    {
     "name": "stdout",
     "output_type": "stream",
     "text": [
      "{4, 5}\n",
      "{4, 5}\n"
     ]
    }
   ],
   "source": [
    "print (a.intersection(b))\n",
    "print (a & b)"
   ]
  },
  {
   "cell_type": "code",
   "execution_count": 57,
   "id": "c478864a-23ea-43ad-8d15-85fe317ebbe2",
   "metadata": {},
   "outputs": [
    {
     "name": "stdout",
     "output_type": "stream",
     "text": [
      "{1, 2, 3}\n",
      "{1, 2, 3}\n",
      "{8, 6, 7}\n",
      "{8, 6, 7}\n"
     ]
    }
   ],
   "source": [
    "print(a.difference(b))\n",
    "print(a-b)\n",
    "print(b.difference(a))\n",
    "print(b-a)"
   ]
  },
  {
   "cell_type": "code",
   "execution_count": 58,
   "id": "16adaddd-37d4-47dd-928f-566eeb701735",
   "metadata": {},
   "outputs": [
    {
     "name": "stdout",
     "output_type": "stream",
     "text": [
      "{1, 2, 3, 6, 7, 8}\n",
      "{1, 2, 3, 6, 7, 8}\n"
     ]
    }
   ],
   "source": [
    "print(a.symmetric_difference(b))\n",
    "print(a ^ b)"
   ]
  },
  {
   "cell_type": "code",
   "execution_count": 59,
   "id": "dc1559cb-5b2b-4ee1-9929-9600ed1a2951",
   "metadata": {},
   "outputs": [
    {
     "name": "stdout",
     "output_type": "stream",
     "text": [
      "True\n",
      "False\n",
      "False\n",
      "True\n"
     ]
    }
   ],
   "source": [
    "a={1,2,3,4,5}\n",
    "b={3,4}\n",
    "print(a.issuperset(b))\n",
    "print(b.issuperset(a))\n",
    "\n",
    "print(a.issubset(b))\n",
    "print(b.issubset(a))"
   ]
  },
  {
   "cell_type": "code",
   "execution_count": null,
   "id": "420e997d-a3ed-4e7b-ae98-b9b74675b77f",
   "metadata": {},
   "outputs": [],
   "source": []
  }
 ],
 "metadata": {
  "kernelspec": {
   "display_name": "Python 3 (ipykernel)",
   "language": "python",
   "name": "python3"
  },
  "language_info": {
   "codemirror_mode": {
    "name": "ipython",
    "version": 3
   },
   "file_extension": ".py",
   "mimetype": "text/x-python",
   "name": "python",
   "nbconvert_exporter": "python",
   "pygments_lexer": "ipython3",
   "version": "3.9.13"
  }
 },
 "nbformat": 4,
 "nbformat_minor": 5
}
