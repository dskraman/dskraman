{
 "cells": [
  {
   "cell_type": "code",
   "execution_count": null,
   "id": "1c8afbac-c343-4ab5-95c0-0ac09b270e24",
   "metadata": {},
   "outputs": [],
   "source": [
    "##Advanced functions\n",
    "## filter, map, reduce\n",
    "##It takes two argument. 1. Function name"
   ]
  },
  {
   "cell_type": "code",
   "execution_count": 1,
   "id": "a4962b7d-50a3-41f7-99e5-0ddded566861",
   "metadata": {},
   "outputs": [],
   "source": [
    "## filter returns only true value\n",
    "def even(n):\n",
    "    print(\"Function has started\")\n",
    "    if n%2 == 0:\n",
    "        return True\n",
    "    else:\n",
    "        return False\n",
    "    "
   ]
  },
  {
   "cell_type": "code",
   "execution_count": 6,
   "id": "b0b513d4-5377-443b-a823-ec21537a314b",
   "metadata": {},
   "outputs": [
    {
     "name": "stdout",
     "output_type": "stream",
     "text": [
      "<filter object at 0x0000028AF36B39A0>\n"
     ]
    }
   ],
   "source": [
    "a=[1,2,3,4,5,6,7,8]\n",
    "b=filter(even,a)\n",
    "print(b)               #it allocate memory. But not print"
   ]
  },
  {
   "cell_type": "code",
   "execution_count": 7,
   "id": "98c303c5-db34-458f-adb3-8646ffb5278b",
   "metadata": {},
   "outputs": [
    {
     "name": "stdout",
     "output_type": "stream",
     "text": [
      "Function has started\n",
      "Function has started\n",
      "Function has started\n",
      "Function has started\n",
      "Function has started\n",
      "Function has started\n",
      "Function has started\n",
      "Function has started\n",
      "[2, 4, 6, 8]\n"
     ]
    }
   ],
   "source": [
    "print(list(b))"
   ]
  },
  {
   "cell_type": "code",
   "execution_count": 9,
   "id": "99ed9bfd-11d7-4e80-bb56-048f6f3c7304",
   "metadata": {},
   "outputs": [],
   "source": [
    "c=list(b)"
   ]
  },
  {
   "cell_type": "code",
   "execution_count": 10,
   "id": "bf4496ae-05c5-4a87-a58a-18dca5ced82d",
   "metadata": {},
   "outputs": [
    {
     "name": "stdout",
     "output_type": "stream",
     "text": [
      "[]\n"
     ]
    }
   ],
   "source": [
    "print(c)"
   ]
  },
  {
   "cell_type": "code",
   "execution_count": 11,
   "id": "5c722ce0-1f6b-4fc7-b529-7398bbbba15a",
   "metadata": {},
   "outputs": [
    {
     "name": "stdout",
     "output_type": "stream",
     "text": [
      "[2, 4, 6, 8]\n"
     ]
    }
   ],
   "source": [
    "a=[1,2,3,4,5,6,7,8]\n",
    "print(list(filter(lambda x:x%2==0,a)))"
   ]
  },
  {
   "cell_type": "code",
   "execution_count": 14,
   "id": "7c37757b-59af-4868-a174-9a86632bf2df",
   "metadata": {},
   "outputs": [
    {
     "name": "stdout",
     "output_type": "stream",
     "text": [
      "[False, True, False, True, False, True, False, True]\n"
     ]
    }
   ],
   "source": [
    "##Map -Return whether it is true or false\n",
    "def even(n):\n",
    "    if n%2 == 0:\n",
    "        return True\n",
    "    else:\n",
    "        return False\n",
    "\n",
    "a=[1,2,3,4,5,6,7,8]\n",
    "b=map(even,a)\n",
    "print(list(b))"
   ]
  },
  {
   "cell_type": "code",
   "execution_count": 15,
   "id": "433c34cb-700f-42ba-ae05-cd593723a691",
   "metadata": {},
   "outputs": [
    {
     "name": "stdout",
     "output_type": "stream",
     "text": [
      "[False, True, False, True, False, True, False, True]\n"
     ]
    }
   ],
   "source": [
    "a=[1,2,3,4,5,6,7,8]\n",
    "print(list(map(lambda x:x%2==0,a)))"
   ]
  },
  {
   "cell_type": "code",
   "execution_count": 17,
   "id": "add87b91-1cc5-4d7a-a0cc-31d425a77517",
   "metadata": {},
   "outputs": [
    {
     "name": "stdout",
     "output_type": "stream",
     "text": [
      "362880\n"
     ]
    }
   ],
   "source": [
    "##reduce\n",
    "from functools import reduce  #Import functools function\n",
    "\n",
    "def sum(m,n):\n",
    "    return m*n\n",
    "a=[1,2,3,4,5,6,7,8,9]\n",
    "print(reduce(sum,a))"
   ]
  },
  {
   "cell_type": "code",
   "execution_count": 21,
   "id": "69d58f6d-dfd3-445d-92d7-721c76c874f9",
   "metadata": {},
   "outputs": [
    {
     "name": "stdout",
     "output_type": "stream",
     "text": [
      "45\n"
     ]
    }
   ],
   "source": [
    "a=[1,2,3,4,5,6,7,8,9]\n",
    "print(reduce(lambda n,m : n+m,a))"
   ]
  },
  {
   "cell_type": "code",
   "execution_count": 24,
   "id": "385d9e9f-7bba-4dfd-a667-cd4e221a4e3e",
   "metadata": {},
   "outputs": [
    {
     "name": "stdout",
     "output_type": "stream",
     "text": [
      "[0, 1, 2, 3, 4, 5, 6, 7, 8, 9]\n",
      "[0, 1, 2, 3, 4, 5, 6, 7, 8, 9]\n"
     ]
    }
   ],
   "source": [
    "##List comprehension  #one line code for function\n",
    "a=[x for x in range(10)]\n",
    "print(a)\n",
    "\n",
    "l=[]\n",
    "for i in range(10):\n",
    "    l.append(i)\n",
    "print(l)"
   ]
  },
  {
   "cell_type": "code",
   "execution_count": 28,
   "id": "a3068a05-19a1-4543-9af8-06eb37747f7f",
   "metadata": {},
   "outputs": [
    {
     "name": "stdout",
     "output_type": "stream",
     "text": [
      "[11, 13, 15, 17, 19, 21, 23, 25, 27, 29, 31, 33, 35, 37, 39, 41, 43, 45, 47, 49, 51, 53, 55, 57, 59, 61, 63, 65, 67, 69, 71, 73, 75, 77, 79, 81, 83, 85, 87, 89, 91, 93, 95, 97, 99]\n",
      "[11, 13, 15, 17, 19, 21, 23, 25, 27, 29, 31, 33, 35, 37, 39, 41, 43, 45, 47, 49, 51, 53, 55, 57, 59, 61, 63, 65, 67, 69, 71, 73, 75, 77, 79, 81, 83, 85, 87, 89, 91, 93, 95, 97, 99]\n"
     ]
    }
   ],
   "source": [
    "a=[x for x in range(10,100) if x % 2 ==1]\n",
    "print(a)\n",
    "\n",
    "l=[]\n",
    "for i in range(10,100):\n",
    "    if i % 2 ==1:\n",
    "        l.append(i)\n",
    "print(l)"
   ]
  },
  {
   "cell_type": "code",
   "execution_count": 29,
   "id": "b0b85a67-5564-4abe-a950-50a1b1b6d4d1",
   "metadata": {},
   "outputs": [
    {
     "name": "stdout",
     "output_type": "stream",
     "text": [
      "no value\n"
     ]
    }
   ],
   "source": [
    "#bool  - check value is available or not\n",
    "a=[]\n",
    "if bool(a):\n",
    "    print(\"value is available\")\n",
    "else:\n",
    "    print(\"no value\")"
   ]
  },
  {
   "cell_type": "code",
   "execution_count": 34,
   "id": "60777826-25cf-41b8-8a82-44a5c85e486c",
   "metadata": {},
   "outputs": [
    {
     "name": "stdout",
     "output_type": "stream",
     "text": [
      "YES\n"
     ]
    }
   ],
   "source": [
    "#in and not in \n",
    "a=(1,2,3)\n",
    "if 1 not in a:\n",
    "    print(\"YES\")\n",
    "    \n",
    "a=(1,2,3)\n",
    "if 1 in a:\n",
    "    print(\"YES\")"
   ]
  },
  {
   "cell_type": "code",
   "execution_count": 36,
   "id": "57447bbc-68c4-440d-ba40-889c7e93f85f",
   "metadata": {},
   "outputs": [
    {
     "name": "stdout",
     "output_type": "stream",
     "text": [
      "{0: 0, 1: 1, 2: 4, 3: 9, 4: 16}\n"
     ]
    }
   ],
   "source": [
    "##Dict comprehension\n",
    "a = {x : x**2 for x in range(5)}\n",
    "print(a)"
   ]
  },
  {
   "cell_type": "code",
   "execution_count": 37,
   "id": "f190be12-891d-4604-a94f-b938877fe613",
   "metadata": {},
   "outputs": [
    {
     "name": "stdout",
     "output_type": "stream",
     "text": [
      "{'one': 1, 'two': 2, 'three': 3}\n"
     ]
    }
   ],
   "source": [
    "a=[\"one\", \"two\", \"three\"]\n",
    "b=[1,2,3]\n",
    "c=zip(a,b)\n",
    "print(dict(c))"
   ]
  },
  {
   "cell_type": "code",
   "execution_count": 41,
   "id": "64649dba-8af4-4535-a29a-67c870999293",
   "metadata": {},
   "outputs": [
    {
     "name": "stdout",
     "output_type": "stream",
     "text": [
      "23\n",
      "[22, 44, 54, 23]\n",
      "[33, 44, 23, 21, 43, 22, 54, 23]\n",
      "0.15072372057371142\n",
      "191\n",
      "4.541847867608883\n"
     ]
    }
   ],
   "source": [
    "##random\n",
    "import random\n",
    "a=[22,33,44,21,23,43,23,54]\n",
    "print(random.choice(a))\n",
    "print(random.sample(a,4))\n",
    "random.shuffle(a)\n",
    "print(a)\n",
    "print(random.random())  #between 0 to 1\n",
    "print(random.randrange(0,500))\n",
    "print(random.uniform(1,5))"
   ]
  },
  {
   "cell_type": "code",
   "execution_count": 44,
   "id": "c95cf114-5ad0-43ad-b8ed-accdc6ca3262",
   "metadata": {},
   "outputs": [
    {
     "data": {
      "text/plain": [
       "'hellohiwelcome'"
      ]
     },
     "execution_count": 44,
     "metadata": {},
     "output_type": "execute_result"
    }
   ],
   "source": [
    "##change list to string\n",
    "a=[\"hello\", \"hi\", \"welcome\"]\n",
    "\"\".join(a)"
   ]
  },
  {
   "cell_type": "code",
   "execution_count": 45,
   "id": "6d94f7b6-1255-4baf-b31c-5f5227e37b37",
   "metadata": {},
   "outputs": [
    {
     "name": "stdout",
     "output_type": "stream",
     "text": [
      "y\n",
      "8\n"
     ]
    }
   ],
   "source": [
    "#string - password or random generate\n",
    "import string\n",
    "import random\n",
    "print(random.choice(string.ascii_letters)) 'Random string\n",
    "print(random.randint(0,9))                 'Random number"
   ]
  },
  {
   "cell_type": "code",
   "execution_count": 48,
   "id": "300630e8-6674-4500-8ef8-a49feff13be4",
   "metadata": {},
   "outputs": [
    {
     "data": {
      "text/plain": [
       "'hAStFkTeBn'"
      ]
     },
     "execution_count": 48,
     "metadata": {},
     "output_type": "execute_result"
    }
   ],
   "source": [
    "''.join(random.choice(string.ascii_letters) for i in range(10))"
   ]
  },
  {
   "cell_type": "code",
   "execution_count": 50,
   "id": "73aca7f2-f86e-4d28-b0b8-2f35ab8ad4dd",
   "metadata": {},
   "outputs": [
    {
     "data": {
      "text/plain": [
       "'+\\\\~~!:~!.~'"
      ]
     },
     "execution_count": 50,
     "metadata": {},
     "output_type": "execute_result"
    }
   ],
   "source": [
    "''.join(random.choice(string.punctuation) for i in range(3))"
   ]
  },
  {
   "cell_type": "code",
   "execution_count": 52,
   "id": "c9db2ea4-c364-4309-a430-8df832069efe",
   "metadata": {},
   "outputs": [
    {
     "data": {
      "text/plain": [
       "'881'"
      ]
     },
     "execution_count": 52,
     "metadata": {},
     "output_type": "execute_result"
    }
   ],
   "source": [
    "''.join(random.choice(string.digits) for i in range(3))"
   ]
  },
  {
   "cell_type": "code",
   "execution_count": 54,
   "id": "203dc9f4-d8a8-4c79-8cba-6754c3b52183",
   "metadata": {},
   "outputs": [
    {
     "name": "stdout",
     "output_type": "stream",
     "text": [
      "fyVXGyMnQe]<%640\n"
     ]
    }
   ],
   "source": [
    "pwd = \"\".join(random.choice(string.ascii_letters) for i in range(10)) + \\\n",
    "    ''.join(random.choice(string.punctuation) for i in range(3)) + \\\n",
    "''.join(random.choice(string.digits) for i in range(3))\n",
    "print(pwd)"
   ]
  },
  {
   "cell_type": "code",
   "execution_count": 57,
   "id": "2088fd74-55ea-4f43-8758-e860a89d9882",
   "metadata": {},
   "outputs": [
    {
     "name": "stdout",
     "output_type": "stream",
     "text": [
      "M]<eV64QyfXGyn%0\n"
     ]
    }
   ],
   "source": [
    "pwd = (list(pwd))\n",
    "random.shuffle(pwd)\n",
    "print(\"\".join(pwd))"
   ]
  },
  {
   "cell_type": "code",
   "execution_count": 59,
   "id": "c60fe4b7-1066-4489-9836-10c7b174b5fb",
   "metadata": {},
   "outputs": [
    {
     "name": "stdout",
     "output_type": "stream",
     "text": [
      "23\n",
      "-22\n",
      "22\n"
     ]
    }
   ],
   "source": [
    "###Math\n",
    "import math\n",
    "print(math.ceil(22.09))\n",
    "print(math.ceil(-22.09))\n",
    "print(math.ceil(22))"
   ]
  },
  {
   "cell_type": "code",
   "execution_count": 60,
   "id": "d50709ff-93e7-492b-a5f7-57cbf10df0a4",
   "metadata": {},
   "outputs": [
    {
     "name": "stdout",
     "output_type": "stream",
     "text": [
      "22\n",
      "-23\n",
      "22\n"
     ]
    }
   ],
   "source": [
    "print(math.floor(22.09))\n",
    "print(math.floor(-22.09))\n",
    "print(math.floor(22))"
   ]
  },
  {
   "cell_type": "code",
   "execution_count": 61,
   "id": "1d614ea0-c5e3-4977-acde-ab5a0c36aa0d",
   "metadata": {},
   "outputs": [
    {
     "name": "stdout",
     "output_type": "stream",
     "text": [
      "22\n",
      "23\n"
     ]
    }
   ],
   "source": [
    "print(round(22.09))\n",
    "print(round(22.51))"
   ]
  },
  {
   "cell_type": "code",
   "execution_count": null,
   "id": "82d025ff-ecbd-4f5d-953e-48a5cddde66b",
   "metadata": {},
   "outputs": [],
   "source": [
    "#Open file\n",
    "##\"r\",\"w\",\"a\"\n",
    "##write will delete existing file and create new if existing name used\n",
    "file=open(r\"C:\\Users\\Koram\\Python\\sample.txt\",\"r\")"
   ]
  },
  {
   "cell_type": "code",
   "execution_count": null,
   "id": "3d9b3f77-e4da-4c91-a61a-39cd17e5b151",
   "metadata": {},
   "outputs": [],
   "source": [
    "## file 1 : has email (duplicates)\n",
    "## file 2 : has email (duplicates)\n",
    "## output : comon user name in both the file\n",
    "#dinesh@gmail\n",
    "#dinesh@yahoo"
   ]
  }
 ],
 "metadata": {
  "kernelspec": {
   "display_name": "Python 3 (ipykernel)",
   "language": "python",
   "name": "python3"
  },
  "language_info": {
   "codemirror_mode": {
    "name": "ipython",
    "version": 3
   },
   "file_extension": ".py",
   "mimetype": "text/x-python",
   "name": "python",
   "nbconvert_exporter": "python",
   "pygments_lexer": "ipython3",
   "version": "3.9.13"
  }
 },
 "nbformat": 4,
 "nbformat_minor": 5
}
