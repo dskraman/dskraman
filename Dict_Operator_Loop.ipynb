{
 "cells": [
  {
   "cell_type": "code",
   "execution_count": 1,
   "id": "1c8afbac-c343-4ab5-95c0-0ac09b270e24",
   "metadata": {},
   "outputs": [],
   "source": [
    "#Dictory data type\n",
    "#Key and value\n",
    "a=[[\"koran\",\"20\",\"chennai\"], [\"madurai\", \"kumar\", \"45\"]]"
   ]
  },
  {
   "cell_type": "code",
   "execution_count": 2,
   "id": "c78ad317-c377-4146-839b-7f7e1e7cce7f",
   "metadata": {},
   "outputs": [],
   "source": [
    "a={\"name\" : \"Kiran\", \"Location\" : \"Chennai\", \"age\" : 20}"
   ]
  },
  {
   "cell_type": "code",
   "execution_count": 6,
   "id": "96071327-e6ba-43cf-ba5b-d09444659026",
   "metadata": {},
   "outputs": [
    {
     "name": "stdout",
     "output_type": "stream",
     "text": [
      "<class 'dict'>\n",
      "True\n"
     ]
    }
   ],
   "source": [
    "print(type(a))\n",
    "print(isinstance(a,dict))"
   ]
  },
  {
   "cell_type": "code",
   "execution_count": 9,
   "id": "69df4c05-c702-4c99-af05-ba26636e20b8",
   "metadata": {},
   "outputs": [
    {
     "name": "stdout",
     "output_type": "stream",
     "text": [
      "Kiran\n",
      "Kiran\n"
     ]
    }
   ],
   "source": [
    "print(a[\"name\"]) #will show error if var not available\n",
    "print(a.get(\"name\"))  #show null"
   ]
  },
  {
   "cell_type": "code",
   "execution_count": 10,
   "id": "10cc0bc3-5f33-442b-917a-50c23f96797e",
   "metadata": {},
   "outputs": [
    {
     "ename": "KeyError",
     "evalue": "'Salary'",
     "output_type": "error",
     "traceback": [
      "\u001b[1;31m---------------------------------------------------------------------------\u001b[0m",
      "\u001b[1;31mKeyError\u001b[0m                                  Traceback (most recent call last)",
      "\u001b[1;32m~\\AppData\\Local\\Temp\\ipykernel_9524\\4036821530.py\u001b[0m in \u001b[0;36m<module>\u001b[1;34m\u001b[0m\n\u001b[1;32m----> 1\u001b[1;33m \u001b[0mprint\u001b[0m\u001b[1;33m(\u001b[0m\u001b[0ma\u001b[0m\u001b[1;33m[\u001b[0m\u001b[1;34m\"Salary\"\u001b[0m\u001b[1;33m]\u001b[0m\u001b[1;33m)\u001b[0m\u001b[1;33m\u001b[0m\u001b[1;33m\u001b[0m\u001b[0m\n\u001b[0m",
      "\u001b[1;31mKeyError\u001b[0m: 'Salary'"
     ]
    }
   ],
   "source": [
    "print(a[\"Salary\"])"
   ]
  },
  {
   "cell_type": "code",
   "execution_count": 12,
   "id": "25795e4d-af36-4188-bca7-5e2b7ff5490d",
   "metadata": {},
   "outputs": [
    {
     "name": "stdout",
     "output_type": "stream",
     "text": [
      "None\n",
      "0\n"
     ]
    }
   ],
   "source": [
    "print(a.get(\"Salary\"))\n",
    "print(a.get(\"Salary\",0)) #iferror zero"
   ]
  },
  {
   "cell_type": "code",
   "execution_count": 13,
   "id": "01001c3d-e48e-4fe2-aaf0-aee079c36fb3",
   "metadata": {},
   "outputs": [
    {
     "name": "stdout",
     "output_type": "stream",
     "text": [
      "dict_keys(['name', 'Location', 'age'])\n",
      "dict_values(['Kiran', 'Chennai', 20])\n",
      "dict_items([('name', 'Kiran'), ('Location', 'Chennai'), ('age', 20)])\n"
     ]
    }
   ],
   "source": [
    "print(a.keys())\n",
    "print(a.values())\n",
    "print(a.items())"
   ]
  },
  {
   "cell_type": "code",
   "execution_count": 14,
   "id": "e9e92f6e-ac20-4684-b521-1156ac426156",
   "metadata": {},
   "outputs": [
    {
     "name": "stdout",
     "output_type": "stream",
     "text": [
      "3\n",
      "Location\n",
      "name\n",
      "['Location', 'age', 'name']\n"
     ]
    }
   ],
   "source": [
    "print(len(a))\n",
    "print(min(a))\n",
    "print(max(a))\n",
    "print(sorted(a))"
   ]
  },
  {
   "cell_type": "code",
   "execution_count": 15,
   "id": "e8ea784e-24ab-4a54-afd6-7fff37cdce39",
   "metadata": {},
   "outputs": [
    {
     "name": "stdout",
     "output_type": "stream",
     "text": [
      "{'name': 'Kiran', 'Location': 'Chennai', 'age': 20, 'salary': 100}\n"
     ]
    }
   ],
   "source": [
    "#add another key. Key should be unique\n",
    "a[\"salary\"]=100\n",
    "print(a)"
   ]
  },
  {
   "cell_type": "code",
   "execution_count": 16,
   "id": "0e8857c2-6f39-4204-aef4-9bb427828089",
   "metadata": {},
   "outputs": [
    {
     "name": "stdout",
     "output_type": "stream",
     "text": [
      "{'name': 'Kiran', 'Location': 'Chennai', 'age': 20, 'salary': 200}\n"
     ]
    }
   ],
   "source": [
    "a[\"salary\"]=200\n",
    "print(a)"
   ]
  },
  {
   "cell_type": "code",
   "execution_count": 17,
   "id": "c8b4f1c0-6f4c-4310-9d1e-57ec572cc9a5",
   "metadata": {},
   "outputs": [
    {
     "name": "stdout",
     "output_type": "stream",
     "text": [
      "{'name': 'Kiran', 'Location': 'Chennai', 'age': 20}\n"
     ]
    }
   ],
   "source": [
    "#remove one item\n",
    "del a[\"salary\"]\n",
    "print(a)"
   ]
  },
  {
   "cell_type": "code",
   "execution_count": 19,
   "id": "ffe8d2da-ba2f-43bd-9c26-a0a563f0e90d",
   "metadata": {},
   "outputs": [
    {
     "name": "stdout",
     "output_type": "stream",
     "text": [
      "{'name': 'test', 'location': 'chennai', 'age': 20, 'salary': 200}\n"
     ]
    }
   ],
   "source": [
    "a={'name' : 'kiran', 'location' : 'chennai', 'age' : 20, \"salary\" : 200, \"name\" : \"test\"}\n",
    "print(a)"
   ]
  },
  {
   "cell_type": "code",
   "execution_count": 20,
   "id": "1f8f656a-2a0e-4054-931f-b4d59c6be375",
   "metadata": {},
   "outputs": [
    {
     "name": "stdout",
     "output_type": "stream",
     "text": [
      "{'name': 'test', 'location': 'chennai', 'age': 20}\n",
      "('salary', 200)\n"
     ]
    }
   ],
   "source": [
    "b=a.popitem() #Assign last value to new variable\n",
    "print(a)\n",
    "print(b)"
   ]
  },
  {
   "cell_type": "code",
   "execution_count": 21,
   "id": "726e6fa1-4554-43b3-b257-fd0f247cdf41",
   "metadata": {},
   "outputs": [
    {
     "name": "stdout",
     "output_type": "stream",
     "text": [
      "{'one': 1, 'two': 2, 'three': 3}\n"
     ]
    }
   ],
   "source": [
    "a=[\"one\",\"two\",\"three\"] #should be same item count for concate\n",
    "b=[1,2,3]\n",
    "\n",
    "c=dict(zip(a,b))\n",
    "print(c)"
   ]
  },
  {
   "cell_type": "code",
   "execution_count": 22,
   "id": "ee5b8e51-d075-4507-97b2-070d74f0c7ca",
   "metadata": {},
   "outputs": [],
   "source": [
    "#string\n",
    "#int\n",
    "#list\n",
    "#tuple\n",
    "#set\n",
    "#dict"
   ]
  },
  {
   "cell_type": "code",
   "execution_count": 23,
   "id": "289e792d-55fe-4c5c-a9f8-1c9c1112f50a",
   "metadata": {},
   "outputs": [],
   "source": [
    "##Operators in python"
   ]
  },
  {
   "cell_type": "code",
   "execution_count": 24,
   "id": "5b9cde64-62dd-427e-a221-5f4f4844584c",
   "metadata": {},
   "outputs": [
    {
     "name": "stdout",
     "output_type": "stream",
     "text": [
      "7\n",
      "3\n",
      "10\n",
      "25\n",
      "2.5\n",
      "1\n",
      "2\n"
     ]
    }
   ],
   "source": [
    "##Arithimetic Operator\n",
    "a=5\n",
    "b=2\n",
    "print(a+b)\n",
    "print(a-b)\n",
    "print(a*b)\n",
    "print(a**b)  #exp\n",
    "print(a/b)\n",
    "print(a%b)  #reminder\n",
    "print(a//b) #floor divition   Quotient"
   ]
  },
  {
   "cell_type": "code",
   "execution_count": 25,
   "id": "ebad2559-b3fe-4c1a-9759-defa09b06e3d",
   "metadata": {},
   "outputs": [
    {
     "name": "stdout",
     "output_type": "stream",
     "text": [
      "False\n",
      "True\n",
      "True\n",
      "True\n",
      "False\n",
      "False\n"
     ]
    }
   ],
   "source": [
    "##asignment operator\n",
    "a=4\n",
    "\n",
    "##relational operator\n",
    "a=5\n",
    "b=2\n",
    "print(a==b)\n",
    "print(a!=b)\n",
    "print(a>b)\n",
    "print(a>=b)\n",
    "print(a<b)\n",
    "print(a<=b)"
   ]
  },
  {
   "cell_type": "code",
   "execution_count": 32,
   "id": "851cf3e4-c2fd-4edd-a973-9e35e9694b93",
   "metadata": {},
   "outputs": [
    {
     "name": "stdout",
     "output_type": "stream",
     "text": [
      "5\n",
      "True\n",
      "False\n",
      "True\n",
      "False\n",
      "True\n"
     ]
    }
   ],
   "source": [
    "## logical\n",
    "## and\n",
    "## or\n",
    "## not\n",
    "print(a)\n",
    "print(True and True)  #case sensitive\n",
    "print(True and False)\n",
    "print(True or False)\n",
    "print(not True)\n",
    "print(not False)\n"
   ]
  },
  {
   "cell_type": "code",
   "execution_count": 33,
   "id": "9903941e-05d7-4d93-9dd2-5e99417d2340",
   "metadata": {},
   "outputs": [],
   "source": [
    "## if\n",
    "## while\n",
    "## for"
   ]
  },
  {
   "cell_type": "code",
   "execution_count": 35,
   "id": "1a78f6eb-ca9d-45bd-bb09-071ff10bd3a7",
   "metadata": {},
   "outputs": [
    {
     "name": "stdout",
     "output_type": "stream",
     "text": [
      "yes\n",
      "no\n"
     ]
    }
   ],
   "source": [
    "name=\"kiran\"\n",
    "mark = \"50\"\n",
    "\n",
    "if name == \"kiran\" and mark == \"50\":\n",
    "    print(\"yes\")\n",
    "else:\n",
    "    print(\"no\")\n",
    "    \n",
    "\n",
    "if name == \"kiran\" and mark == \"55\":\n",
    "    print(\"yes\")\n",
    "else:\n",
    "    print(\"no\")"
   ]
  },
  {
   "cell_type": "code",
   "execution_count": 38,
   "id": "62da5f29-f0ab-4f37-b8f1-8a297881c9f8",
   "metadata": {},
   "outputs": [
    {
     "name": "stdout",
     "output_type": "stream",
     "text": [
      "second class\n"
     ]
    }
   ],
   "source": [
    "#nested if\n",
    "name=\"kiran\"\n",
    "mark = 50\n",
    "if name == \"kiran\" and mark > 35:\n",
    "    if mark > 60:\n",
    "        print(\"first class\")\n",
    "    else:\n",
    "        print(\"second class\")\n",
    "else:\n",
    "    print(\"fail\")"
   ]
  },
  {
   "cell_type": "code",
   "execution_count": 39,
   "id": "c43f5d00-11b5-42a3-aeed-98b3d5efd8f2",
   "metadata": {},
   "outputs": [
    {
     "name": "stdout",
     "output_type": "stream",
     "text": [
      "A grade\n"
     ]
    }
   ],
   "source": [
    "## if  elif\n",
    "name = \"kiran\"\n",
    "mark = 90\n",
    "if mark ==100:\n",
    "    print(\"centum\")\n",
    "elif mark >=90:\n",
    "    print(\"A grade\")\n",
    "elif mark >=60:\n",
    "    print(\"first class\")\n",
    "else:\n",
    "    print(\"fail\")"
   ]
  },
  {
   "cell_type": "code",
   "execution_count": 40,
   "id": "87463bf3-8d7e-477f-8b0d-91120060ea6c",
   "metadata": {},
   "outputs": [
    {
     "name": "stdout",
     "output_type": "stream",
     "text": [
      "1\n",
      "2\n",
      "3\n",
      "4\n"
     ]
    }
   ],
   "source": [
    "## while loop  \n",
    "#might be change of infinite loop if a=a+1 not given.\n",
    "a=1\n",
    "while a<5:\n",
    "    print(a)\n",
    "    a = a + 1\n",
    "    "
   ]
  },
  {
   "cell_type": "code",
   "execution_count": 42,
   "id": "0e42518b-1842-49a7-9174-1c01c7a94530",
   "metadata": {},
   "outputs": [
    {
     "data": {
      "text/plain": [
       "[10, 12, 14]"
      ]
     },
     "execution_count": 42,
     "metadata": {},
     "output_type": "execute_result"
    }
   ],
   "source": [
    "#for\n",
    "list(range(10))\n"
   ]
  },
  {
   "cell_type": "code",
   "execution_count": 43,
   "id": "c9263431-b924-47e3-a2f8-0d5e36d51ca4",
   "metadata": {},
   "outputs": [
    {
     "data": {
      "text/plain": [
       "[10, 11, 12, 13, 14]"
      ]
     },
     "execution_count": 43,
     "metadata": {},
     "output_type": "execute_result"
    }
   ],
   "source": [
    "list(range(10,15))"
   ]
  },
  {
   "cell_type": "code",
   "execution_count": 44,
   "id": "6419eb90-068f-401c-b7d7-4c245a3afdb7",
   "metadata": {},
   "outputs": [
    {
     "data": {
      "text/plain": [
       "[10, 12, 14]"
      ]
     },
     "execution_count": 44,
     "metadata": {},
     "output_type": "execute_result"
    }
   ],
   "source": [
    "list(range(10,15,2))  #intervel"
   ]
  },
  {
   "cell_type": "code",
   "execution_count": 45,
   "id": "057f4892-2304-4e2d-962f-60ba0defdf2d",
   "metadata": {},
   "outputs": [
    {
     "name": "stdout",
     "output_type": "stream",
     "text": [
      "0\n",
      "1\n",
      "2\n",
      "3\n",
      "4\n"
     ]
    }
   ],
   "source": [
    "for i in range(5):\n",
    "    print(i)"
   ]
  },
  {
   "cell_type": "code",
   "execution_count": 47,
   "id": "6b380668-2a4b-45fa-b15e-b2af9abec093",
   "metadata": {},
   "outputs": [
    {
     "name": "stdout",
     "output_type": "stream",
     "text": [
      "hello\n",
      "welcome\n",
      "to\n",
      "tamilboomi\n"
     ]
    }
   ],
   "source": [
    "a= [\"hello\", \"welcome\", \"to\", \"tamilboomi\"]\n",
    "for i in a:\n",
    "    print(i)"
   ]
  },
  {
   "cell_type": "code",
   "execution_count": 48,
   "id": "ca46f5ee-398c-4ef6-b9cf-9629b1288894",
   "metadata": {},
   "outputs": [
    {
     "name": "stdout",
     "output_type": "stream",
     "text": [
      "['hellow', 'welcome', 'to', 'tamilboomi,', 'today', 'we', 'are', 'learing', 'python']\n",
      "Yes pythong has occured\n"
     ]
    }
   ],
   "source": [
    "a=\"hellow welcome to tamilboomi, today we are learing python\"\n",
    "a=a.split(\" \")\n",
    "print(a)\n",
    "for i in a:\n",
    "    if i == \"python\":\n",
    "        print(\"Yes pythong has occured\")"
   ]
  },
  {
   "cell_type": "code",
   "execution_count": 50,
   "id": "b08a4143-733e-45ba-9eee-4fed2a6069e7",
   "metadata": {},
   "outputs": [],
   "source": [
    "a={\"name\" : \"dinesh\", \"age\" : 12, \"location\" : \"chennai\"}"
   ]
  },
  {
   "cell_type": "code",
   "execution_count": 51,
   "id": "fc6f772e-845a-4b5a-b79e-7044c35cd1a0",
   "metadata": {},
   "outputs": [
    {
     "name": "stdout",
     "output_type": "stream",
     "text": [
      "name\n",
      "age\n",
      "location\n"
     ]
    }
   ],
   "source": [
    "for i in a.keys():\n",
    "    print(i)"
   ]
  },
  {
   "cell_type": "code",
   "execution_count": 52,
   "id": "44d7fffb-68d6-4b57-9dee-fae96466f1f2",
   "metadata": {},
   "outputs": [
    {
     "name": "stdout",
     "output_type": "stream",
     "text": [
      "dinesh\n",
      "12\n",
      "chennai\n"
     ]
    }
   ],
   "source": [
    "for i in a.values():\n",
    "    print(i)"
   ]
  },
  {
   "cell_type": "code",
   "execution_count": 57,
   "id": "0e60ad4e-e76a-4a83-a93e-d2b724c9b186",
   "metadata": {},
   "outputs": [
    {
     "name": "stdout",
     "output_type": "stream",
     "text": [
      "key is : name\n",
      "value is : dinesh\n",
      "Key is name\n",
      "key is : age\n",
      "value is : 12\n",
      "Key is age\n",
      "key is : location\n",
      "value is : chennai\n",
      "Key is location\n"
     ]
    }
   ],
   "source": [
    "for k,v in a.items(): #item shows key and value\n",
    "    print(f\"key is : {k}\")\n",
    "    print(f\"value is : {v}\")\n",
    "    print(\"Key is\", k)\n",
    "  "
   ]
  },
  {
   "cell_type": "code",
   "execution_count": 55,
   "id": "47cc6c0a-3951-4cbf-b950-38e433b85f70",
   "metadata": {},
   "outputs": [
    {
     "name": "stdout",
     "output_type": "stream",
     "text": [
      "Key is location\n"
     ]
    }
   ],
   "source": [
    "  print(\"Key is\", k)"
   ]
  },
  {
   "cell_type": "code",
   "execution_count": 58,
   "id": "a64630b3-0912-44db-b591-197c2d944796",
   "metadata": {},
   "outputs": [
    {
     "name": "stdout",
     "output_type": "stream",
     "text": [
      "value is : dinesh\n",
      "Key is name\n",
      "value is : 12\n",
      "Key is age\n",
      "value is : chennai\n",
      "Key is location\n"
     ]
    }
   ],
   "source": [
    "for k,v in a.items(): #item shows key and value\n",
    "    print(f\"value is : {v}\")\n",
    "    print(\"Key is\", k)"
   ]
  },
  {
   "cell_type": "code",
   "execution_count": 60,
   "id": "1580e0aa-7b1e-44af-a5f6-dc26baec9845",
   "metadata": {},
   "outputs": [
    {
     "name": "stdout",
     "output_type": "stream",
     "text": [
      "10\n",
      "12\n",
      "14\n",
      "16\n",
      "18\n"
     ]
    }
   ],
   "source": [
    "## step 1 : generate all numbers from 10 to 20\n",
    "for i in range(10,20):\n",
    "    if i % 2 == 0:   #print even number\n",
    "        print(i)"
   ]
  },
  {
   "cell_type": "code",
   "execution_count": 61,
   "id": "e13f7868-744d-4b72-a5d5-5b0aed904433",
   "metadata": {},
   "outputs": [
    {
     "name": "stdout",
     "output_type": "stream",
     "text": [
      "[10, 12, 14, 16, 18]\n"
     ]
    }
   ],
   "source": [
    "l=[]\n",
    "for i in range(10,20):\n",
    "    if i % 2 == 0:   #print even number\n",
    "        l.append(i)\n",
    "print(l)"
   ]
  },
  {
   "cell_type": "code",
   "execution_count": null,
   "id": "f7efec5a-cfa9-4ada-9c04-e297d08b5333",
   "metadata": {},
   "outputs": [],
   "source": [
    "##a = [\"test@gmail.com\", \"kumar@yahoo.com\", \"koran@gmail.com\"]\n",
    "## a = [\"test@gmail.com\" , \"kumar@yahoo.com\" , \"kiran@gmail.com\"]\n",
    "## output 1 = [\"test\" , \"kiran\" ,\"kumar\"]\n",
    "## output 2 = [\"gmail\" , \"yahoo\"]\n",
    "#a = [\"apple\" , \"apple\" , \"mango\" , \"mango\" , \"orange\"]\n",
    "# output = {\"apple\" : 2 , \"mango\" : 2 , \"orange\" : 1}\n",
    "# unique fruit list = [\"apple\" , \"mango\", \"orange\"]\n",
    "# duplicate fruit list [\"apple\" , \"mango\"]"
   ]
  },
  {
   "cell_type": "code",
   "execution_count": 31,
   "id": "6b846d48-aeb3-41aa-96d4-af452bcb6546",
   "metadata": {},
   "outputs": [
    {
     "ename": "AttributeError",
     "evalue": "'list' object has no attribute 'split'",
     "output_type": "error",
     "traceback": [
      "\u001b[1;31m---------------------------------------------------------------------------\u001b[0m",
      "\u001b[1;31mAttributeError\u001b[0m                            Traceback (most recent call last)",
      "\u001b[1;32m~\\AppData\\Local\\Temp\\ipykernel_2664\\3345563491.py\u001b[0m in \u001b[0;36m<module>\u001b[1;34m\u001b[0m\n\u001b[0;32m      1\u001b[0m \u001b[0ma\u001b[0m \u001b[1;33m=\u001b[0m \u001b[1;33m[\u001b[0m\u001b[1;34m\"test@gmail.com\"\u001b[0m \u001b[1;33m,\u001b[0m \u001b[1;34m\"kumar@yahoo.com\"\u001b[0m \u001b[1;33m,\u001b[0m \u001b[1;34m\"kiran@gmail.com\"\u001b[0m\u001b[1;33m]\u001b[0m\u001b[1;33m\u001b[0m\u001b[1;33m\u001b[0m\u001b[0m\n\u001b[1;32m----> 2\u001b[1;33m \u001b[0ma\u001b[0m\u001b[1;33m=\u001b[0m\u001b[0ma\u001b[0m\u001b[1;33m.\u001b[0m\u001b[0msplit\u001b[0m\u001b[1;33m(\u001b[0m\u001b[1;34m\"@\"\u001b[0m\u001b[1;33m)\u001b[0m\u001b[1;33m\u001b[0m\u001b[1;33m\u001b[0m\u001b[0m\n\u001b[0m\u001b[0;32m      3\u001b[0m \u001b[0mprint\u001b[0m\u001b[1;33m(\u001b[0m\u001b[0ma\u001b[0m\u001b[1;33m)\u001b[0m\u001b[1;33m\u001b[0m\u001b[1;33m\u001b[0m\u001b[0m\n",
      "\u001b[1;31mAttributeError\u001b[0m: 'list' object has no attribute 'split'"
     ]
    }
   ],
   "source": [
    "a = [\"test@gmail.com\" , \"kumar@yahoo.com\" , \"kiran@gmail.com\"]\n",
    "a=a.split(\"@\")\n",
    "print(a)"
   ]
  },
  {
   "cell_type": "code",
   "execution_count": 2,
   "id": "9633dc62-667f-491f-aa6f-e7b4499beb69",
   "metadata": {},
   "outputs": [
    {
     "ename": "AttributeError",
     "evalue": "'list' object has no attribute 'split'",
     "output_type": "error",
     "traceback": [
      "\u001b[1;31m---------------------------------------------------------------------------\u001b[0m",
      "\u001b[1;31mAttributeError\u001b[0m                            Traceback (most recent call last)",
      "\u001b[1;32m~\\AppData\\Local\\Temp\\ipykernel_2664\\3514947963.py\u001b[0m in \u001b[0;36m<module>\u001b[1;34m\u001b[0m\n\u001b[1;32m----> 1\u001b[1;33m \u001b[0mb\u001b[0m\u001b[1;33m=\u001b[0m\u001b[0ma\u001b[0m\u001b[1;33m.\u001b[0m\u001b[0msplit\u001b[0m\u001b[1;33m(\u001b[0m\u001b[1;34m\"@\"\u001b[0m\u001b[1;33m)\u001b[0m\u001b[1;33m\u001b[0m\u001b[1;33m\u001b[0m\u001b[0m\n\u001b[0m\u001b[0;32m      2\u001b[0m \u001b[0mprint\u001b[0m\u001b[1;33m(\u001b[0m\u001b[0mb\u001b[0m\u001b[1;33m)\u001b[0m\u001b[1;33m\u001b[0m\u001b[1;33m\u001b[0m\u001b[0m\n",
      "\u001b[1;31mAttributeError\u001b[0m: 'list' object has no attribute 'split'"
     ]
    }
   ],
   "source": []
  },
  {
   "cell_type": "code",
   "execution_count": 18,
   "id": "70d8fd9e-c7d1-4f6c-8460-42063a4758da",
   "metadata": {},
   "outputs": [
    {
     "name": "stdout",
     "output_type": "stream",
     "text": [
      "['hellow welcome', 'to tamilboomi, today we are learing python']\n"
     ]
    }
   ],
   "source": [
    "a=\"hellow welcome@to tamilboomi, today we are learing python\"\n",
    "a=a.split(\"@\")\n",
    "print(a)"
   ]
  },
  {
   "cell_type": "code",
   "execution_count": 60,
   "id": "1f7fa44a-964b-4688-a274-1b481e5cecf6",
   "metadata": {},
   "outputs": [
    {
     "name": "stdout",
     "output_type": "stream",
     "text": [
      "['test', 'kumar', 'kiran']\n",
      "{'gmail', 'yahoo'}\n"
     ]
    }
   ],
   "source": [
    "l=[]\n",
    "m=[]\n",
    "a = [\"test@gmail.com\" , \"kumar@yahoo.com\" , \"kiran@gmail.com\"]\n",
    "for i in a:\n",
    "    b=i.split(\"@\")\n",
    "    l.append(b[0])\n",
    "    c=b[1].split(\".\")\n",
    "    m.append(c[0])\n",
    "print(l)  ## output 1\n",
    "print(set(m))  ## output 2"
   ]
  },
  {
   "cell_type": "code",
   "execution_count": 33,
   "id": "16b295bf-5b95-48e7-aca5-31792e12ed8e",
   "metadata": {},
   "outputs": [
    {
     "name": "stdout",
     "output_type": "stream",
     "text": [
      "{'apple', 'orange', 'mango'}\n"
     ]
    }
   ],
   "source": [
    "# unique fruit list\n",
    "a = [\"apple\" , \"apple\" , \"mango\" , \"mango\" , \"orange\"]\n",
    "print(set(a))"
   ]
  },
  {
   "cell_type": "code",
   "execution_count": 59,
   "id": "5b9b3d67-5a90-4f71-9d0e-d0daac6dcd65",
   "metadata": {},
   "outputs": [
    {
     "name": "stdout",
     "output_type": "stream",
     "text": [
      "['apple', 'mango']\n",
      "{'apple': 2, 'orange': 1, 'mango': 2}\n"
     ]
    }
   ],
   "source": [
    "# output = {\"apple\" : 2 , \"mango\" : 2 , \"orange\" : 1}\n",
    "l=[]\n",
    "m=[]\n",
    "a = [\"apple\" , \"apple\" , \"mango\" , \"mango\" , \"orange\"]\n",
    "#print(a[0])\n",
    "b=set(a)\n",
    "\n",
    "for i in b:\n",
    "    l.append(a.count(i))\n",
    "    \n",
    "    if a.count(i) > 1:\n",
    "        m.append(i)       # duplicate fruit list [\"apple\" , \"mango\"]\n",
    "\n",
    "\n",
    "print(m) \n",
    "\n",
    "c=dict(zip(b,l))\n",
    "print(c)"
   ]
  },
  {
   "cell_type": "code",
   "execution_count": 65,
   "id": "c86a32c1-0edb-4deb-96f7-65d321b28dad",
   "metadata": {},
   "outputs": [
    {
     "name": "stdout",
     "output_type": "stream",
     "text": [
      "['test', 'kumar', 'kiran']\n",
      "{'gmail', 'yahoo'}\n",
      "{'apple': 2, 'orange': 1, 'mango': 2}\n",
      "{'apple', 'orange', 'mango'}\n",
      "['apple', 'mango']\n"
     ]
    }
   ],
   "source": [
    "##a = [\"test@gmail.com\", \"kumar@yahoo.com\", \"koran@gmail.com\"]\n",
    "## a = [\"test@gmail.com\" , \"kumar@yahoo.com\" , \"kiran@gmail.com\"]\n",
    "## output 1 = [\"test\" , \"kiran\" ,\"kumar\"]\n",
    "## output 2 = [\"gmail\" , \"yahoo\"]\n",
    "#a = [\"apple\" , \"apple\" , \"mango\" , \"mango\" , \"orange\"]\n",
    "# output = {\"apple\" : 2 , \"mango\" : 2 , \"orange\" : 1}\n",
    "# unique fruit list = [\"apple\" , \"mango\", \"orange\"]\n",
    "# duplicate fruit list [\"apple\" , \"mango\"]\n",
    "\n",
    "l=[]\n",
    "m=[]\n",
    "a = [\"test@gmail.com\" , \"kumar@yahoo.com\" , \"kiran@gmail.com\"]\n",
    "for i in a:\n",
    "    b=i.split(\"@\")\n",
    "    l.append(b[0])\n",
    "    c=b[1].split(\".\")\n",
    "    m.append(c[0])\n",
    "print(l)                                 ## output 1\n",
    "print(set(m))                            ## output 2\n",
    "#--------------------------------------------------------------------------------------------\n",
    "\n",
    "\n",
    "l=[]\n",
    "m=[]\n",
    "a = [\"apple\" , \"apple\" , \"mango\" , \"mango\" , \"orange\"]\n",
    "#print(a[0])\n",
    "b=set(a)\n",
    "\n",
    "for i in b:\n",
    "    l.append(a.count(i))\n",
    "    \n",
    "    if a.count(i) > 1:\n",
    "        m.append(i)       \n",
    "\n",
    "c=dict(zip(b,l))\n",
    "print(c)                                ## output = {\"apple\" : 2 , \"mango\" : 2 , \"orange\" : 1}\n",
    "print(set(a))                           ## unique fruit list = [\"apple\" , \"mango\", \"orange\"]\n",
    "print(m)                               ## duplicate fruit list [\"apple\" , \"mango\"]\n"
   ]
  },
  {
   "cell_type": "code",
   "execution_count": null,
   "id": "70570555-e969-477f-a481-454ba836e5f1",
   "metadata": {},
   "outputs": [],
   "source": []
  }
 ],
 "metadata": {
  "kernelspec": {
   "display_name": "Python 3 (ipykernel)",
   "language": "python",
   "name": "python3"
  },
  "language_info": {
   "codemirror_mode": {
    "name": "ipython",
    "version": 3
   },
   "file_extension": ".py",
   "mimetype": "text/x-python",
   "name": "python",
   "nbconvert_exporter": "python",
   "pygments_lexer": "ipython3",
   "version": "3.9.13"
  }
 },
 "nbformat": 4,
 "nbformat_minor": 5
}
