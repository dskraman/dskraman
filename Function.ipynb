{
 "cells": [
  {
   "cell_type": "code",
   "execution_count": 2,
   "id": "dcdd00ef-b95a-477e-a749-898d1e8a2604",
   "metadata": {},
   "outputs": [],
   "source": [
    "##Function (user defined function)\n",
    "def add(a,b):\n",
    "    print(a+b)"
   ]
  },
  {
   "cell_type": "code",
   "execution_count": 3,
   "id": "3a1826d1-204d-4ed0-8f51-18d300a8f035",
   "metadata": {},
   "outputs": [
    {
     "name": "stdout",
     "output_type": "stream",
     "text": [
      "9\n"
     ]
    }
   ],
   "source": [
    "add(5,4)"
   ]
  },
  {
   "cell_type": "code",
   "execution_count": 4,
   "id": "8730fe97-59b1-4b3c-a31b-bd4a1dbdc731",
   "metadata": {},
   "outputs": [
    {
     "name": "stdout",
     "output_type": "stream",
     "text": [
      "30\n"
     ]
    }
   ],
   "source": [
    "add(10,20)"
   ]
  },
  {
   "cell_type": "code",
   "execution_count": 5,
   "id": "69e84617-6198-40cd-8656-23cb595794d5",
   "metadata": {},
   "outputs": [],
   "source": [
    "#Argument ---Local variable, Global Variable\n",
    "def add(a,b):\n",
    "    return (a+b)\n",
    "a=add(5,4)"
   ]
  },
  {
   "cell_type": "code",
   "execution_count": 6,
   "id": "1a7d156d-73a5-48e7-8529-b1fefe9d0dbc",
   "metadata": {},
   "outputs": [
    {
     "name": "stdout",
     "output_type": "stream",
     "text": [
      "9\n"
     ]
    }
   ],
   "source": [
    "print(a)"
   ]
  },
  {
   "cell_type": "code",
   "execution_count": 7,
   "id": "3f523811-1d4b-42ec-993f-83e32fd8b4c3",
   "metadata": {},
   "outputs": [
    {
     "name": "stdout",
     "output_type": "stream",
     "text": [
      "19\n"
     ]
    }
   ],
   "source": [
    "b=add(a,10)\n",
    "print(b)"
   ]
  },
  {
   "cell_type": "code",
   "execution_count": 9,
   "id": "8be4c7bc-a3c3-400c-8d53-a3410f024c4e",
   "metadata": {},
   "outputs": [
    {
     "name": "stdout",
     "output_type": "stream",
     "text": [
      "start of function : 9\n"
     ]
    },
    {
     "data": {
      "text/plain": [
       "9"
      ]
     },
     "execution_count": 9,
     "metadata": {},
     "output_type": "execute_result"
    }
   ],
   "source": [
    "def add(a,b):\n",
    "    c=a+b\n",
    "    print(f\"start of function : {c}\")\n",
    "    return c\n",
    "    print (\"after return\")\n",
    "add(5,4)"
   ]
  },
  {
   "cell_type": "code",
   "execution_count": null,
   "id": "42107e70-de08-44cc-9ab9-9339455cbc02",
   "metadata": {},
   "outputs": [],
   "source": [
    "## local variable\n",
    "## global variable"
   ]
  },
  {
   "cell_type": "code",
   "execution_count": 10,
   "id": "941d0289-1b3f-4675-a6d6-72cdfdf36c84",
   "metadata": {},
   "outputs": [
    {
     "name": "stdout",
     "output_type": "stream",
     "text": [
      "welcome\n"
     ]
    }
   ],
   "source": [
    "a=\"welcome\"\n",
    "def test():\n",
    "    a=\"hello\"\n",
    "test()\n",
    "print(a)"
   ]
  },
  {
   "cell_type": "code",
   "execution_count": 12,
   "id": "bc565ec9-92b0-4b30-9ca9-98545f520ec1",
   "metadata": {},
   "outputs": [
    {
     "name": "stdout",
     "output_type": "stream",
     "text": [
      "welcome\n",
      "hello\n"
     ]
    }
   ],
   "source": [
    "a=\"welcome\"\n",
    "def test():\n",
    "    a=\"hello\"\n",
    "    return a\n",
    "print(a)  #global variable\n",
    "a=test()\n",
    "print(a)  #called local variable"
   ]
  },
  {
   "cell_type": "code",
   "execution_count": 13,
   "id": "e1883694-f315-4987-94d5-b03806a7f7f1",
   "metadata": {},
   "outputs": [
    {
     "name": "stdout",
     "output_type": "stream",
     "text": [
      "welcome\n",
      "hello\n",
      "welcome\n"
     ]
    }
   ],
   "source": [
    "a=\"welcome\"\n",
    "def test():\n",
    "    a=\"hello\"\n",
    "    print(a)\n",
    "print(a)  #global variable\n",
    "test()    #called local variable\n",
    "print(a)  #Global variable"
   ]
  },
  {
   "cell_type": "code",
   "execution_count": 14,
   "id": "640e547f-e08b-498b-b536-b35d0905ca17",
   "metadata": {},
   "outputs": [
    {
     "name": "stdout",
     "output_type": "stream",
     "text": [
      "hello\n",
      "welcome\n",
      "welcome\n"
     ]
    }
   ],
   "source": [
    "#Change local variable to global\n",
    "a=\"welcome\"\n",
    "def test():\n",
    "    a=\"hello\"\n",
    "    print(a)\n",
    "\n",
    "test()    #called local variable\n",
    "print(a)  #global variable\n",
    "print(a)  #Global variable"
   ]
  },
  {
   "cell_type": "code",
   "execution_count": 15,
   "id": "2bad2ec2-a205-4adb-a8e7-dc01d1b2c836",
   "metadata": {},
   "outputs": [
    {
     "name": "stdout",
     "output_type": "stream",
     "text": [
      "hello\n",
      "hello\n",
      "hello\n"
     ]
    }
   ],
   "source": [
    "#Change local variable to global\n",
    "a=\"welcome\"\n",
    "def test():\n",
    "    global a    #It overwrite welcome\n",
    "    a=\"hello\"\n",
    "    print(a)\n",
    "\n",
    "test()    #called local variable\n",
    "print(a)  #global variable\n",
    "print(a)  #Global variable"
   ]
  },
  {
   "cell_type": "code",
   "execution_count": null,
   "id": "a4e759f0-c0b5-42e0-bb78-447685141038",
   "metadata": {},
   "outputs": [],
   "source": [
    "#Way of passing argument, argument handling"
   ]
  },
  {
   "cell_type": "code",
   "execution_count": null,
   "id": "7ec596b0-99a4-4377-9b9d-0feaa91f5205",
   "metadata": {},
   "outputs": [],
   "source": [
    "def add(a,b,c):\n",
    "    return a+b+c"
   ]
  },
  {
   "cell_type": "code",
   "execution_count": 19,
   "id": "f669ad61-cad2-490b-aa0d-12f1576a645d",
   "metadata": {},
   "outputs": [],
   "source": [
    "def name(f_name,m_name,l_name):\n",
    "    print(\"first name is \", f_name)\n",
    "    print(\"middle name is \", m_name)\n",
    "    print(\"last name is \", l_name)\n",
    "    print(f_name + \" \" + l_name)"
   ]
  },
  {
   "cell_type": "code",
   "execution_count": 20,
   "id": "44554c87-ff5e-4687-a05b-6c913e1ce0d1",
   "metadata": {},
   "outputs": [
    {
     "name": "stdout",
     "output_type": "stream",
     "text": [
      "first name is  sachin\n",
      "middle name is  Ramesh\n",
      "last name is  Tendulkar\n",
      "sachin Tendulkar\n"
     ]
    }
   ],
   "source": [
    "name(\"sachin\", \"Ramesh\", \"Tendulkar\") #positinoal argument"
   ]
  },
  {
   "cell_type": "code",
   "execution_count": 18,
   "id": "716648f8-1935-47ea-b16c-196980087a49",
   "metadata": {},
   "outputs": [
    {
     "name": "stdout",
     "output_type": "stream",
     "text": [
      "first name is  Ramesn\n",
      "middle name is  Tendulkar\n",
      "last name is  sachin\n"
     ]
    }
   ],
   "source": [
    "name(l_name = \"sachin\", f_name=\"Ramesn\", m_name=\"Tendulkar\")#keyword argument"
   ]
  },
  {
   "cell_type": "code",
   "execution_count": 21,
   "id": "b9153e79-aaf3-41db-91d5-54c6047b1bf3",
   "metadata": {},
   "outputs": [],
   "source": [
    "#default argument\n",
    "def name(f_name = None,m_name = None,l_name = None):\n",
    "    print(\"first name is \", f_name)\n",
    "    print(\"middle name is \", m_name)\n",
    "    print(\"last name is \", l_name)"
   ]
  },
  {
   "cell_type": "code",
   "execution_count": 22,
   "id": "ae890e28-5b95-4f5d-8aa8-94f4a30d7754",
   "metadata": {},
   "outputs": [
    {
     "name": "stdout",
     "output_type": "stream",
     "text": [
      "first name is  Sachin\n",
      "middle name is  None\n",
      "last name is  None\n"
     ]
    }
   ],
   "source": [
    "name(\"Sachin\")"
   ]
  },
  {
   "cell_type": "code",
   "execution_count": 23,
   "id": "87049127-d969-453e-b348-f3e8109ef19d",
   "metadata": {},
   "outputs": [],
   "source": [
    "#positional arg follows keyword arg\n",
    "#non default arg follows default arg"
   ]
  },
  {
   "cell_type": "code",
   "execution_count": 24,
   "id": "1060292f-2226-4909-8efc-9c1ffca794d6",
   "metadata": {},
   "outputs": [],
   "source": [
    "def name(f_name = None,m_name = None,l_name = None):\n",
    "    print(\"first name is \", f_name)\n",
    "    print(\"middle name is \", m_name)\n",
    "    print(\"last name is \", l_name)"
   ]
  },
  {
   "cell_type": "code",
   "execution_count": 25,
   "id": "10965596-6c57-4924-91d1-638d3956687b",
   "metadata": {},
   "outputs": [
    {
     "ename": "SyntaxError",
     "evalue": "positional argument follows keyword argument (2386743588.py, line 2)",
     "output_type": "error",
     "traceback": [
      "\u001b[1;36m  File \u001b[1;32m\"C:\\Users\\Koram\\AppData\\Local\\Temp\\ipykernel_11556\\2386743588.py\"\u001b[1;36m, line \u001b[1;32m2\u001b[0m\n\u001b[1;33m    name(l_name = \"sachin\", f_name=\"Ramesn\", \"Tendulkar\")\u001b[0m\n\u001b[1;37m                                                        ^\u001b[0m\n\u001b[1;31mSyntaxError\u001b[0m\u001b[1;31m:\u001b[0m positional argument follows keyword argument\n"
     ]
    }
   ],
   "source": [
    "#error because m_name not given\n",
    "name(l_name = \"sachin\", f_name=\"Ramesn\", \"Tendulkar\")"
   ]
  },
  {
   "cell_type": "code",
   "execution_count": 26,
   "id": "87b37686-72bb-44a1-a668-05384d41c299",
   "metadata": {},
   "outputs": [],
   "source": [
    "def test(*args):\n",
    "    print(args)\n",
    "    a=args[0]\n",
    "    b=args[1]\n",
    "    print(a,b)"
   ]
  },
  {
   "cell_type": "code",
   "execution_count": 27,
   "id": "34767d22-9d29-40ce-984c-3fcbd5783050",
   "metadata": {},
   "outputs": [
    {
     "name": "stdout",
     "output_type": "stream",
     "text": [
      "('hello', 1, 3, 4, 5, 'welcome')\n",
      "hello 1\n"
     ]
    }
   ],
   "source": [
    "test(\"hello\",1,3,4,5,\"welcome\")"
   ]
  },
  {
   "cell_type": "code",
   "execution_count": 28,
   "id": "4822341c-9287-41e4-8ca0-b8a0cc610837",
   "metadata": {},
   "outputs": [],
   "source": [
    "def test(**kwargs):\n",
    "    print(kwargs)\n",
    "    name=kwargs.get(\"name\")\n",
    "    state=kwargs.get(\"state\")\n",
    "    print(name,state)\n",
    "    return name, state"
   ]
  },
  {
   "cell_type": "code",
   "execution_count": 29,
   "id": "e87e6a63-be66-4051-9356-b2e0535d1aa0",
   "metadata": {},
   "outputs": [
    {
     "name": "stdout",
     "output_type": "stream",
     "text": [
      "{'name': 'test', 'add1': 'add1', 'add2': 'add2', 'state': 'state'}\n",
      "test state\n"
     ]
    },
    {
     "data": {
      "text/plain": [
       "('test', 'state')"
      ]
     },
     "execution_count": 29,
     "metadata": {},
     "output_type": "execute_result"
    }
   ],
   "source": [
    "test(name = \"test\", add1=\"add1\", add2=\"add2\", state=\"state\")"
   ]
  },
  {
   "cell_type": "code",
   "execution_count": 33,
   "id": "f294eb50-66c1-4e53-9905-0985a127d0fb",
   "metadata": {},
   "outputs": [],
   "source": [
    "def test(a, *b):\n",
    "    print(a)\n",
    "    print(b)   #other than first position"
   ]
  },
  {
   "cell_type": "code",
   "execution_count": 31,
   "id": "06277b48-5447-4689-8656-3bafc4bcdee3",
   "metadata": {},
   "outputs": [
    {
     "name": "stdout",
     "output_type": "stream",
     "text": [
      "1\n",
      "()\n"
     ]
    }
   ],
   "source": [
    "test(1)"
   ]
  },
  {
   "cell_type": "code",
   "execution_count": 32,
   "id": "8096d886-7bd1-4377-8607-f1909a46b592",
   "metadata": {},
   "outputs": [
    {
     "name": "stdout",
     "output_type": "stream",
     "text": [
      "1\n",
      "(2, 3, 4, 5)\n"
     ]
    }
   ],
   "source": [
    "test(1,2,3,4,5)"
   ]
  },
  {
   "cell_type": "code",
   "execution_count": 34,
   "id": "ffe8c483-e744-49d1-a013-6e69726e133a",
   "metadata": {},
   "outputs": [
    {
     "name": "stdout",
     "output_type": "stream",
     "text": [
      "12\n"
     ]
    }
   ],
   "source": [
    "def mul(a,b,c=1):  #1 is null value to arthimetic variable \n",
    "    print(a*b*c)\n",
    "mul(3,4)"
   ]
  },
  {
   "cell_type": "code",
   "execution_count": 35,
   "id": "9483ab66-dc8b-49d5-808f-8a959636b748",
   "metadata": {},
   "outputs": [
    {
     "data": {
      "text/plain": [
       "9"
      ]
     },
     "execution_count": 35,
     "metadata": {},
     "output_type": "execute_result"
    }
   ],
   "source": [
    "##Lambda  # in line function (one line function)\n",
    "a= lambda a,b : a+b\n",
    "a(5,4)"
   ]
  },
  {
   "cell_type": "code",
   "execution_count": 36,
   "id": "f1dd9044-b0a0-4fa0-abc0-cd70642225f7",
   "metadata": {},
   "outputs": [
    {
     "data": {
      "text/plain": [
       "(1, 2, 3, 4)"
      ]
     },
     "execution_count": 36,
     "metadata": {},
     "output_type": "execute_result"
    }
   ],
   "source": [
    "a= lambda *args : args\n",
    "a(1,2,3,4)"
   ]
  },
  {
   "cell_type": "code",
   "execution_count": 37,
   "id": "8c948b63-224f-4a28-97c1-fda9c924a90e",
   "metadata": {},
   "outputs": [],
   "source": [
    "email_set = set()\n",
    "user_list = []\n"
   ]
  },
  {
   "cell_type": "code",
   "execution_count": null,
   "id": "893e077a-997b-428b-a97c-5c5a61cfd331",
   "metadata": {},
   "outputs": [],
   "source": [
    "write a function , take two input as argument\n",
    "#inp : 1 --> [10,1,20,45,6,12,8]\n",
    "#inp :2 --> some integer\n",
    "#ex: inp : 2 --> 1\n",
    "# op = [1,10,20,45,6,12,8]\n",
    "##\n",
    "##common function \n",
    "## arg1 : start num\n",
    "## arg2 : end num\n",
    "## arg1 : even/odd\n",
    "# 10 , 500 , odd --> op : list\n",
    "### lambda - simple lambda function"
   ]
  }
 ],
 "metadata": {
  "kernelspec": {
   "display_name": "Python 3 (ipykernel)",
   "language": "python",
   "name": "python3"
  },
  "language_info": {
   "codemirror_mode": {
    "name": "ipython",
    "version": 3
   },
   "file_extension": ".py",
   "mimetype": "text/x-python",
   "name": "python",
   "nbconvert_exporter": "python",
   "pygments_lexer": "ipython3",
   "version": "3.9.13"
  }
 },
 "nbformat": 4,
 "nbformat_minor": 5
}
