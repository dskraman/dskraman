{
 "cells": [
  {
   "cell_type": "code",
   "execution_count": 2,
   "id": "3b742ab6",
   "metadata": {},
   "outputs": [],
   "source": [
    "a=\"Welcome to today's class\"\n",
    "#a-variable"
   ]
  },
  {
   "cell_type": "code",
   "execution_count": 3,
   "id": "cb5df9dd",
   "metadata": {},
   "outputs": [
    {
     "name": "stdout",
     "output_type": "stream",
     "text": [
      "<class 'str'>\n"
     ]
    }
   ],
   "source": [
    "print(type(a))"
   ]
  },
  {
   "cell_type": "code",
   "execution_count": 4,
   "id": "2d708ece",
   "metadata": {},
   "outputs": [
    {
     "name": "stdout",
     "output_type": "stream",
     "text": [
      "True\n"
     ]
    }
   ],
   "source": [
    "print(isinstance(a,str))"
   ]
  },
  {
   "cell_type": "code",
   "execution_count": 5,
   "id": "9301907e",
   "metadata": {},
   "outputs": [],
   "source": [
    "a=\"SachinTendulkar\""
   ]
  },
  {
   "cell_type": "code",
   "execution_count": 6,
   "id": "14a912b6",
   "metadata": {},
   "outputs": [
    {
     "name": "stdout",
     "output_type": "stream",
     "text": [
      "15\n",
      "S\n",
      "u\n",
      "['S', 'T', 'a', 'a', 'c', 'd', 'e', 'h', 'i', 'k', 'l', 'n', 'n', 'r', 'u']\n"
     ]
    }
   ],
   "source": [
    "print(len(a))\n",
    "print(min(a))\n",
    "print(max(a))\n",
    "print(sorted(a))\n",
    "#based on ASCII value it will sort"
   ]
  },
  {
   "cell_type": "code",
   "execution_count": 7,
   "id": "cf9e0356",
   "metadata": {},
   "outputs": [
    {
     "name": "stdout",
     "output_type": "stream",
     "text": [
      "True\n",
      "True\n",
      "False\n"
     ]
    }
   ],
   "source": [
    "print(a.isalpha())\n",
    "print(a.isalnum()) #any one or combined\n",
    "print(a.isdigit())"
   ]
  },
  {
   "cell_type": "code",
   "execution_count": 9,
   "id": "2223b838",
   "metadata": {},
   "outputs": [
    {
     "name": "stdout",
     "output_type": "stream",
     "text": [
      "False\n",
      "False\n",
      "SACHINTENDULKAR\n",
      "sachintendulkar\n",
      "sACHINtENDULKAR\n"
     ]
    }
   ],
   "source": [
    "print(a.isupper())\n",
    "print(a.islower())\n",
    "print(a.upper())\n",
    "print(a.lower())\n",
    "print(a.swapcase())"
   ]
  },
  {
   "cell_type": "code",
   "execution_count": 10,
   "id": "fc012f84",
   "metadata": {},
   "outputs": [
    {
     "name": "stdout",
     "output_type": "stream",
     "text": [
      "Sachintendulkar\n",
      "Sachintendulkar\n"
     ]
    }
   ],
   "source": [
    "print(a.title())\n",
    "print(a.capitalize())"
   ]
  },
  {
   "cell_type": "code",
   "execution_count": null,
   "id": "0afee649",
   "metadata": {},
   "outputs": [],
   "source": [
    "# forward indexing\n",
    "#------------------->\n",
    "#0 1 2 3 4 5\n",
    "#P Y T H O N\n",
    "#-6 -5--4 -3 -2 -1\n",
    "#<-----------------------\n",
    "#rEVERSE INDEXING"
   ]
  },
  {
   "cell_type": "code",
   "execution_count": 22,
   "id": "aa4d88f6",
   "metadata": {},
   "outputs": [
    {
     "name": "stdout",
     "output_type": "stream",
     "text": [
      "T\n",
      "chinTend\n",
      "SachinTendulkar\n",
      "r\n",
      "SciTnukr\n",
      "SachinTendulkar\n",
      "ShTdk\n",
      "rakludneTnihcaS\n",
      "5\n",
      "1\n",
      "13\n",
      "13\n"
     ]
    }
   ],
   "source": [
    "a=\"SachinTendulkar\"\n",
    "## start  : end  : interval\n",
    "print(a[6])\n",
    "print(a[2:10])\n",
    "print(a[:])\n",
    "print(a[-1])  #reverse start with -1\n",
    "print(a[::2])\n",
    "print(a[::1])\n",
    "print(a[::3])\n",
    "print(a[::-1]) # start end  interval\n",
    "print(a.index(\"n\"))\n",
    "print(a.index(\"a\"))\n",
    "print(a.index(\"a\",2) ) #print index(a, start, end)\n",
    "print(a.index(\"a\",2,14))"
   ]
  },
  {
   "cell_type": "code",
   "execution_count": 23,
   "id": "6f40760a",
   "metadata": {},
   "outputs": [
    {
     "name": "stdout",
     "output_type": "stream",
     "text": [
      "8\n"
     ]
    }
   ],
   "source": [
    "print(a.rindex(\"n\"))  #Return forward index not reverse index"
   ]
  },
  {
   "cell_type": "code",
   "execution_count": null,
   "id": "067ed720",
   "metadata": {},
   "outputs": [],
   "source": [
    "## find , r find\n",
    "## find and index are same unless find returns -1 if the substring is not found (don't show error)\n"
   ]
  },
  {
   "cell_type": "code",
   "execution_count": 25,
   "id": "b2c99e89",
   "metadata": {},
   "outputs": [
    {
     "name": "stdout",
     "output_type": "stream",
     "text": [
      "5\n",
      "5\n",
      "-1\n"
     ]
    }
   ],
   "source": [
    "print(a.index(\"n\"))\n",
    "print(a.find(\"n\"))\n",
    "print(a.find(\"z\")) #Show -1 instead of error"
   ]
  },
  {
   "cell_type": "code",
   "execution_count": 26,
   "id": "a5e6a123",
   "metadata": {},
   "outputs": [
    {
     "name": "stdout",
     "output_type": "stream",
     "text": [
      "8\n",
      "8\n",
      "-1\n"
     ]
    }
   ],
   "source": [
    "print(a.rindex(\"n\"))\n",
    "print(a.rfind(\"n\"))\n",
    "print(a.rfind(\"z\"))"
   ]
  },
  {
   "cell_type": "code",
   "execution_count": 27,
   "id": "fd243b01",
   "metadata": {},
   "outputs": [
    {
     "name": "stdout",
     "output_type": "stream",
     "text": [
      "3\n",
      "S$chinTe$ndulk$r\n",
      "S$chinTeandulkar\n",
      "S$chinTe$ndulkar\n",
      "['S', 'chinTe', 'ndulk', 'r']\n",
      "['S', 'chinTeandulkar']\n"
     ]
    }
   ],
   "source": [
    "a=\"SachinTeandulkar\"\n",
    "print(a.count(\"a\"))\n",
    "print(a.replace(\"a\", \"$\"))\n",
    "print(a.replace(\"a\", \"$\", 1))\n",
    "print(a.replace(\"a\", \"$\", 2)) #Replace first two occurance\n",
    "print(a.split(\"a\"))  #Split \n",
    "print(a.split(\"a\",1))  # Split first occurance only"
   ]
  },
  {
   "cell_type": "code",
   "execution_count": 28,
   "id": "eb05c9a1",
   "metadata": {},
   "outputs": [
    {
     "name": "stdout",
     "output_type": "stream",
     "text": [
      "True\n",
      "True\n"
     ]
    }
   ],
   "source": [
    "print(a.startswith(\"S\")) #case sensitive\n",
    "print(a.endswith(\"r\"))"
   ]
  },
  {
   "cell_type": "code",
   "execution_count": 33,
   "id": "295ae18e",
   "metadata": {},
   "outputs": [
    {
     "name": "stdout",
     "output_type": "stream",
     "text": [
      "Good morning Dinesh, have a great Sunday\n",
      "Good morning Sunday, have a great Dinesh\n"
     ]
    }
   ],
   "source": [
    "#formating in string\n",
    "print(\"Good morning {}, have a great {}\". format(\"Dinesh\",\"Sunday\"))\n",
    "print(\"Good morning {1}, have a great {0}\". format(\"Dinesh\",\"Sunday\"))\n"
   ]
  },
  {
   "cell_type": "code",
   "execution_count": 34,
   "id": "42632e90",
   "metadata": {},
   "outputs": [
    {
     "name": "stdout",
     "output_type": "stream",
     "text": [
      "good morning Dinesh , have a great Sunday\n"
     ]
    }
   ],
   "source": [
    "name=\"Dinesh\"\n",
    "day=\"Sunday\"\n",
    "print(f\"good morning {name} , have a great {day}\")"
   ]
  },
  {
   "cell_type": "code",
   "execution_count": 37,
   "id": "1ffe76de",
   "metadata": {},
   "outputs": [
    {
     "name": "stdout",
     "output_type": "stream",
     "text": [
      "<class 'int'>\n",
      "True\n"
     ]
    }
   ],
   "source": [
    "a=123\n",
    "print(type(a))\n",
    "print(isinstance(a,int))"
   ]
  },
  {
   "cell_type": "code",
   "execution_count": 38,
   "id": "308b96a2",
   "metadata": {},
   "outputs": [
    {
     "name": "stdout",
     "output_type": "stream",
     "text": [
      "<class 'str'>\n",
      "False\n",
      "True\n"
     ]
    }
   ],
   "source": [
    "a=\"123\"\n",
    "print(type(a))\n",
    "print(isinstance(a,int))\n",
    "print(isinstance(a,str))"
   ]
  },
  {
   "cell_type": "code",
   "execution_count": 41,
   "id": "531211ab",
   "metadata": {},
   "outputs": [
    {
     "name": "stdout",
     "output_type": "stream",
     "text": [
      "True\n"
     ]
    }
   ],
   "source": [
    "a=\"123\"\n",
    "print(a.isdigit())"
   ]
  },
  {
   "cell_type": "code",
   "execution_count": 40,
   "id": "f1f70821",
   "metadata": {},
   "outputs": [
    {
     "ename": "AttributeError",
     "evalue": "'int' object has no attribute 'isdigit'",
     "output_type": "error",
     "traceback": [
      "\u001b[1;31m---------------------------------------------------------------------------\u001b[0m",
      "\u001b[1;31mAttributeError\u001b[0m                            Traceback (most recent call last)",
      "\u001b[1;32m~\\AppData\\Local\\Temp\\ipykernel_7728\\3566223976.py\u001b[0m in \u001b[0;36m<module>\u001b[1;34m\u001b[0m\n\u001b[0;32m      1\u001b[0m \u001b[0ma\u001b[0m\u001b[1;33m=\u001b[0m\u001b[1;36m123\u001b[0m\u001b[1;33m\u001b[0m\u001b[1;33m\u001b[0m\u001b[0m\n\u001b[1;32m----> 2\u001b[1;33m \u001b[0mprint\u001b[0m\u001b[1;33m(\u001b[0m\u001b[0ma\u001b[0m\u001b[1;33m.\u001b[0m\u001b[0misdigit\u001b[0m\u001b[1;33m(\u001b[0m\u001b[1;33m)\u001b[0m\u001b[1;33m)\u001b[0m  \u001b[1;31m#error. isdigit is only for string\u001b[0m\u001b[1;33m\u001b[0m\u001b[1;33m\u001b[0m\u001b[0m\n\u001b[0m",
      "\u001b[1;31mAttributeError\u001b[0m: 'int' object has no attribute 'isdigit'"
     ]
    }
   ],
   "source": [
    "a=123\n",
    "print(a.isdigit())  #error. isdigit is only for string"
   ]
  },
  {
   "cell_type": "code",
   "execution_count": 43,
   "id": "ae42da11",
   "metadata": {},
   "outputs": [
    {
     "name": "stdout",
     "output_type": "stream",
     "text": [
      "123\n",
      "123.0\n",
      "123\n",
      "123.0\n"
     ]
    }
   ],
   "source": [
    "a=\"123\"  #TYPE CASTING\n",
    "print(int(a))\n",
    "print(float(a))\n",
    "a=int(a)\n",
    "print(int(a))\n",
    "print(float(a))"
   ]
  },
  {
   "cell_type": "code",
   "execution_count": 44,
   "id": "ebb07dea",
   "metadata": {},
   "outputs": [
    {
     "ename": "ValueError",
     "evalue": "invalid literal for int() with base 10: 'test'",
     "output_type": "error",
     "traceback": [
      "\u001b[1;31m---------------------------------------------------------------------------\u001b[0m",
      "\u001b[1;31mValueError\u001b[0m                                Traceback (most recent call last)",
      "\u001b[1;32m~\\AppData\\Local\\Temp\\ipykernel_7728\\3784390755.py\u001b[0m in \u001b[0;36m<module>\u001b[1;34m\u001b[0m\n\u001b[0;32m      1\u001b[0m \u001b[0ma\u001b[0m\u001b[1;33m=\u001b[0m\u001b[1;34m\"test\"\u001b[0m  \u001b[1;31m#invalid type casting\u001b[0m\u001b[1;33m\u001b[0m\u001b[1;33m\u001b[0m\u001b[0m\n\u001b[1;32m----> 2\u001b[1;33m \u001b[0mprint\u001b[0m\u001b[1;33m(\u001b[0m\u001b[0mint\u001b[0m\u001b[1;33m(\u001b[0m\u001b[0ma\u001b[0m\u001b[1;33m)\u001b[0m\u001b[1;33m)\u001b[0m\u001b[1;33m\u001b[0m\u001b[1;33m\u001b[0m\u001b[0m\n\u001b[0m",
      "\u001b[1;31mValueError\u001b[0m: invalid literal for int() with base 10: 'test'"
     ]
    }
   ],
   "source": [
    "a=\"test\"  #invalid type casting\n",
    "print(int(a))"
   ]
  },
  {
   "cell_type": "code",
   "execution_count": null,
   "id": "59f3a388",
   "metadata": {},
   "outputs": [],
   "source": [
    "a=input(\"Enter your name:\")     #user input is str type"
   ]
  },
  {
   "cell_type": "code",
   "execution_count": null,
   "id": "3396349e",
   "metadata": {},
   "outputs": [],
   "source": [
    "a=123"
   ]
  },
  {
   "cell_type": "code",
   "execution_count": null,
   "id": "8a6c2880",
   "metadata": {},
   "outputs": [],
   "source": [
    "a=123"
   ]
  },
  {
   "cell_type": "code",
   "execution_count": null,
   "id": "fb6593f8",
   "metadata": {},
   "outputs": [],
   "source": [
    "a=input(\"Enter your name:\") "
   ]
  },
  {
   "cell_type": "code",
   "execution_count": null,
   "id": "f044118f",
   "metadata": {},
   "outputs": [],
   "source": [
    "asdfasdf"
   ]
  },
  {
   "cell_type": "code",
   "execution_count": null,
   "id": "2220238a",
   "metadata": {},
   "outputs": [],
   "source": [
    "a=123\n",
    "print(a)"
   ]
  },
  {
   "cell_type": "code",
   "execution_count": null,
   "id": "9f3345af",
   "metadata": {},
   "outputs": [],
   "source": [
    "a=\"123\"  #TYPE CASTING\n",
    "print(int(a))"
   ]
  },
  {
   "cell_type": "code",
   "execution_count": null,
   "id": "28827687",
   "metadata": {},
   "outputs": [],
   "source": [
    "print(a.startswith(\"S\")) #case sensitive\n",
    "print(a.endswith(\"r\"))"
   ]
  },
  {
   "cell_type": "code",
   "execution_count": null,
   "id": "51f0eaf6",
   "metadata": {},
   "outputs": [],
   "source": []
  }
 ],
 "metadata": {
  "kernelspec": {
   "display_name": "Python 3 (ipykernel)",
   "language": "python",
   "name": "python3"
  },
  "language_info": {
   "codemirror_mode": {
    "name": "ipython",
    "version": 3
   },
   "file_extension": ".py",
   "mimetype": "text/x-python",
   "name": "python",
   "nbconvert_exporter": "python",
   "pygments_lexer": "ipython3",
   "version": "3.9.13"
  }
 },
 "nbformat": 4,
 "nbformat_minor": 5
}
