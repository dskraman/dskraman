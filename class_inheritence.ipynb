{
 "cells": [
  {
   "cell_type": "code",
   "execution_count": null,
   "id": "9b3687f4-40d8-4cf2-8970-d6122c8c61df",
   "metadata": {},
   "outputs": [],
   "source": [
    "#inheritance"
   ]
  },
  {
   "cell_type": "code",
   "execution_count": 1,
   "id": "4fb3d4a5-a8db-4b81-a227-eea7995c1e10",
   "metadata": {},
   "outputs": [],
   "source": [
    "class calc():\n",
    "    def add(self,a,b):\n",
    "        print(a+b)\n",
    "    def sub(self,a,b):\n",
    "        print(a-b)"
   ]
  },
  {
   "cell_type": "code",
   "execution_count": 2,
   "id": "05360be8-bbdf-4bc7-81b2-515a3c63ad6f",
   "metadata": {},
   "outputs": [],
   "source": [
    "class calc1(calc):\n",
    "    def mul(self,a,b):\n",
    "        print(a*b)"
   ]
  },
  {
   "cell_type": "code",
   "execution_count": 3,
   "id": "006bbfaa-c2a2-47a6-87f8-b2932addb230",
   "metadata": {},
   "outputs": [
    {
     "name": "stdout",
     "output_type": "stream",
     "text": [
      "9\n",
      "1\n",
      "20\n"
     ]
    }
   ],
   "source": [
    "a=calc1()\n",
    "a.add(5,4)\n",
    "a.sub(5,4)\n",
    "a.mul(5,4)"
   ]
  },
  {
   "cell_type": "code",
   "execution_count": null,
   "id": "534c7edd-92c4-4a45-8c31-1297cfd210dd",
   "metadata": {},
   "outputs": [],
   "source": [
    "#consructor\n",
    "class parent():\n",
    "       \n",
    "    def demo(self):\n",
    "        print (\"Demo\")\n",
    "\n",
    "class child(parent):\n",
    "    \n",
    "    def __"
   ]
  },
  {
   "cell_type": "code",
   "execution_count": 4,
   "id": "7f46957e-76c6-47ee-a672-5a5cef5fe53c",
   "metadata": {},
   "outputs": [
    {
     "name": "stdout",
     "output_type": "stream",
     "text": [
      "1000\n"
     ]
    }
   ],
   "source": [
    "class parent():\n",
    "    \n",
    "    def __init__(self):\n",
    "        self.name = \"Dinesh\"\n",
    "        \n",
    "    def demo(self):\n",
    "        print (\"Demo\")\n",
    "\n",
    "class child(parent):\n",
    "    \n",
    "    def __init__(self):\n",
    "        self.money  = 1000\n",
    "    \n",
    "    def display(self):\n",
    "        print(self.money)\n",
    "a=child()\n",
    "a.display()"
   ]
  },
  {
   "cell_type": "code",
   "execution_count": 7,
   "id": "459726d9-33f5-482d-83f3-fae0fcc519e5",
   "metadata": {},
   "outputs": [
    {
     "name": "stdout",
     "output_type": "stream",
     "text": [
      "1000\n",
      "Dinesh\n"
     ]
    }
   ],
   "source": [
    "# constructor in both in parent and child\n",
    "class parent():\n",
    "    \n",
    "    def __init__(self):\n",
    "        self.name = \"Dinesh\"\n",
    "        \n",
    "    def demo(self):\n",
    "        print (\"Demo\")\n",
    "\n",
    "class child(parent):\n",
    "    \n",
    "    def __init__(self):\n",
    "        self.money  = 1000\n",
    "        super().__init__()  #super to set parent value also in cache memory\n",
    "    \n",
    "    def display(self):\n",
    "        print(self.money)\n",
    "        print(self.name)\n",
    "        \n",
    "a=child()\n",
    "a.display()   #super parent class"
   ]
  },
  {
   "cell_type": "code",
   "execution_count": 10,
   "id": "de6c32f4-bbd1-4c1c-927b-fb93c40f2743",
   "metadata": {},
   "outputs": [
    {
     "name": "stdout",
     "output_type": "stream",
     "text": [
      "9\n",
      "1\n",
      "20\n",
      "1.25\n"
     ]
    }
   ],
   "source": [
    "##Multilevel inheritance\n",
    "class calc():\n",
    "    \n",
    "    def add(self,a,b):\n",
    "        print(a+b)\n",
    "    def sub(self,a,b):\n",
    "        print(a-b)\n",
    "\n",
    "class calc1(calc):\n",
    "    def mul(self,a,b):\n",
    "        print(a*b)\n",
    "\n",
    "class calc2(calc1):\n",
    "    def div(self,a,b):\n",
    "        print(a/b)\n",
    "\n",
    "a=calc2()\n",
    "a.add(5,4)\n",
    "a.sub(5,4)\n",
    "a.mul(5,4)\n",
    "a.div(5,4)\n"
   ]
  },
  {
   "cell_type": "code",
   "execution_count": 17,
   "id": "4d50d319-8be8-495d-aee9-9d9ce4f1a904",
   "metadata": {},
   "outputs": [
    {
     "name": "stdout",
     "output_type": "stream",
     "text": [
      "1000\n",
      "Dinesh\n",
      "12\n"
     ]
    }
   ],
   "source": [
    "class parent():\n",
    "    \n",
    "    def __init__(self):\n",
    "        self.name = \"Dinesh\"\n",
    "        \n",
    "    def demo(self):\n",
    "        print (\"Demo\")\n",
    "\n",
    "class child(parent):\n",
    "    \n",
    "    def __init__(self):\n",
    "        self.money  = 1000\n",
    "        super().__init__()  #super to set parent value also in cache memory\n",
    "    \n",
    "        \n",
    "class grandchild(child):\n",
    "    \n",
    "    def __init__(self):\n",
    "        self.age = \"12\"\n",
    "        super().__init__()\n",
    "        \n",
    "    def display(self):\n",
    "        print(self.money)\n",
    "        print(self.name)\n",
    "        print(self.age)\n",
    "        \n",
    "        \n",
    "a=grandchild()\n",
    "a.display()   #super parent class"
   ]
  },
  {
   "cell_type": "code",
   "execution_count": 21,
   "id": "7943864b-a7d4-45e2-9bb9-a27d94f320f2",
   "metadata": {},
   "outputs": [
    {
     "name": "stdout",
     "output_type": "stream",
     "text": [
      "parent\n",
      "child\n",
      "grand child\n"
     ]
    }
   ],
   "source": [
    "##hireacrhical inheritance\n",
    "class parent():\n",
    "    def name(self):\n",
    "        print(\"parent\")\n",
    "\n",
    "class child(parent):\n",
    "    def child(self):\n",
    "        print(\"child\")\n",
    "\n",
    "\n",
    "class grandchild(parent):\n",
    "    def grandchild(self):\n",
    "        print(\"grand child\")\n",
    "\n",
    "a=child()\n",
    "a.name()\n",
    "a.child()\n",
    "b=grandchild()\n",
    "b.grandchild()"
   ]
  },
  {
   "cell_type": "code",
   "execution_count": 24,
   "id": "317d11a1-96dd-42fc-b647-6b5adef2501e",
   "metadata": {},
   "outputs": [
    {
     "name": "stdout",
     "output_type": "stream",
     "text": [
      "parent\n",
      "child\n",
      "grand child\n"
     ]
    }
   ],
   "source": [
    "##Multiple inheritance\n",
    "class parent():\n",
    "    def name(self):\n",
    "        print(\"parent\")\n",
    "\n",
    "class child():\n",
    "    def child(self):\n",
    "        print(\"child\")\n",
    "\n",
    "\n",
    "class grandchild(parent, child):\n",
    "    def grandchild(self):\n",
    "        print(\"grand child\")\n",
    "\n",
    "a=grandchild()\n",
    "a.name()\n",
    "a.child()\n",
    "a.grandchild()\n"
   ]
  },
  {
   "cell_type": "code",
   "execution_count": 25,
   "id": "14b1c132-76b6-41d3-9006-db5c50f3e069",
   "metadata": {},
   "outputs": [
    {
     "name": "stdout",
     "output_type": "stream",
     "text": [
      "Parent\n",
      "child\n",
      "gchild\n"
     ]
    }
   ],
   "source": [
    "class parent():\n",
    "    def __init__(self):\n",
    "        self.parent = \"Parent\"\n",
    "class child():\n",
    "    def __init__(self):\n",
    "        self.child = \"child\"\n",
    "class gchild(parent, child):\n",
    "    def __init__(self):\n",
    "        self.gchild = \"gchild\"\n",
    "        super().__init__()\n",
    "        super(parent,self).__init__()\n",
    "        \n",
    "    def display(self):\n",
    "        print(self.parent)\n",
    "        print(self.child)\n",
    "        print(self.gchild)\n",
    "        \n",
    "a=gchild()\n",
    "a.display()\n",
    "        "
   ]
  },
  {
   "cell_type": "code",
   "execution_count": 34,
   "id": "b8fb7653-e166-4f14-b1ab-29207c9f7f19",
   "metadata": {},
   "outputs": [],
   "source": [
    "##abstraction  abc means abstrct\n",
    "from abc import ABC , abstractmethod\n",
    "\n",
    "class parent(ABC):\n",
    "    @abstractmethod          #decorator\n",
    "    def bat(self):\n",
    "        pass\n",
    "    @abstractmethod\n",
    "    def ball(self):\n",
    "        pass"
   ]
  },
  {
   "cell_type": "code",
   "execution_count": 28,
   "id": "c47972ca-b4b8-4afb-8872-dfa5633ffe26",
   "metadata": {},
   "outputs": [],
   "source": []
  },
  {
   "cell_type": "code",
   "execution_count": 27,
   "id": "af442fea-ee41-4148-93d5-03b41b40f637",
   "metadata": {},
   "outputs": [
    {
     "data": {
      "text/plain": [
       "\u001b[1;31mInit signature:\u001b[0m \u001b[0mABC\u001b[0m\u001b[1;33m(\u001b[0m\u001b[1;33m)\u001b[0m\u001b[1;33m\u001b[0m\u001b[1;33m\u001b[0m\u001b[0m\n",
       "\u001b[1;31mSource:\u001b[0m        \n",
       "\u001b[1;32mclass\u001b[0m \u001b[0mABC\u001b[0m\u001b[1;33m(\u001b[0m\u001b[0mmetaclass\u001b[0m\u001b[1;33m=\u001b[0m\u001b[0mABCMeta\u001b[0m\u001b[1;33m)\u001b[0m\u001b[1;33m:\u001b[0m\u001b[1;33m\n",
       "\u001b[0m    \u001b[1;34m\"\"\"Helper class that provides a standard way to create an ABC using\n",
       "    inheritance.\n",
       "    \"\"\"\u001b[0m\u001b[1;33m\n",
       "\u001b[0m    \u001b[0m__slots__\u001b[0m \u001b[1;33m=\u001b[0m \u001b[1;33m(\u001b[0m\u001b[1;33m)\u001b[0m\u001b[1;33m\u001b[0m\u001b[1;33m\u001b[0m\u001b[0m\n",
       "\u001b[1;31mFile:\u001b[0m           c:\\users\\koram\\anaconda3\\lib\\abc.py\n",
       "\u001b[1;31mType:\u001b[0m           ABCMeta\n",
       "\u001b[1;31mSubclasses:\u001b[0m     PathLike, AbstractContextManager, AbstractAsyncContextManager, KernelProvisionerBase, ParserElement, parent\n"
      ]
     },
     "metadata": {},
     "output_type": "display_data"
    }
   ],
   "source": [
    "ABC??"
   ]
  },
  {
   "cell_type": "code",
   "execution_count": 35,
   "id": "608523a8-1d9e-403a-9751-f8465bcc8e7a",
   "metadata": {},
   "outputs": [],
   "source": [
    "class play(parent):\n",
    "    def bat(self):\n",
    "        print(\"bat\")\n",
    "    def ball(self):\n",
    "        print(\"ball\")\n",
    "    def stemp(self):\n",
    "        print(\"stemp\")\n",
    "    def glove(self):\n",
    "        print(\"glove\")\n"
   ]
  },
  {
   "cell_type": "code",
   "execution_count": 38,
   "id": "a09425ee-b8e2-41c8-9cfb-aaa634cf65cb",
   "metadata": {},
   "outputs": [],
   "source": [
    "a=play()"
   ]
  },
  {
   "cell_type": "code",
   "execution_count": null,
   "id": "74a69564-d287-4a3b-ad2c-d4a821a88697",
   "metadata": {},
   "outputs": [],
   "source": [
    "#https://dev.mysql.com/downloads/installer/"
   ]
  },
  {
   "cell_type": "code",
   "execution_count": 39,
   "id": "dd8da7de-0598-426f-af76-2e883dcc1e09",
   "metadata": {},
   "outputs": [
    {
     "name": "stdout",
     "output_type": "stream",
     "text": [
      "0\n",
      "1\n",
      "2\n"
     ]
    }
   ],
   "source": [
    "for i in range(5):\n",
    "    if i==3:\n",
    "        break\n",
    "    print(i)"
   ]
  },
  {
   "cell_type": "code",
   "execution_count": 41,
   "id": "95eab9b2-9dc9-4a76-89a3-d9dfb23302a7",
   "metadata": {},
   "outputs": [
    {
     "name": "stdout",
     "output_type": "stream",
     "text": [
      "0\n",
      "1\n",
      "2\n",
      "4\n"
     ]
    }
   ],
   "source": [
    "for i in range(5):\n",
    "    if i==3:\n",
    "        continue\n",
    "    print(i)"
   ]
  },
  {
   "cell_type": "code",
   "execution_count": 42,
   "id": "d6344567-789e-490f-80ab-8b78fad24f0e",
   "metadata": {},
   "outputs": [
    {
     "name": "stdout",
     "output_type": "stream",
     "text": [
      "0\n",
      "1\n",
      "2\n",
      "3\n",
      "4\n"
     ]
    }
   ],
   "source": [
    "for i in range(5):\n",
    "    if i==3:\n",
    "        pass\n",
    "    print(i)"
   ]
  },
  {
   "cell_type": "code",
   "execution_count": null,
   "id": "a2f06843-a0ae-488c-9534-698f120a386f",
   "metadata": {},
   "outputs": [],
   "source": []
  }
 ],
 "metadata": {
  "kernelspec": {
   "display_name": "Python 3 (ipykernel)",
   "language": "python",
   "name": "python3"
  },
  "language_info": {
   "codemirror_mode": {
    "name": "ipython",
    "version": 3
   },
   "file_extension": ".py",
   "mimetype": "text/x-python",
   "name": "python",
   "nbconvert_exporter": "python",
   "pygments_lexer": "ipython3",
   "version": "3.9.13"
  }
 },
 "nbformat": 4,
 "nbformat_minor": 5
}
