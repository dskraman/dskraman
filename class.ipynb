{
 "cells": [
  {
   "cell_type": "code",
   "execution_count": null,
   "id": "8ec73656-2939-4518-a679-9947ed72d375",
   "metadata": {},
   "outputs": [],
   "source": [
    "#truck : funct : file1\n",
    "#function : group of lines doing some logic \n",
    "#class : group of functions related to particular object"
   ]
  },
  {
   "cell_type": "code",
   "execution_count": 1,
   "id": "0d1f2f87-5901-473a-ab9e-99df73846870",
   "metadata": {},
   "outputs": [],
   "source": [
    "class truck():\n",
    "    def speed(self):   #method\n",
    "        print(\"truck speed is 100km/hr\")\n",
    "    def fuel_cap(self):\n",
    "        print(\"fuel cap is 50 l\")"
   ]
  },
  {
   "cell_type": "code",
   "execution_count": 2,
   "id": "be8ff411-f276-428b-878a-9d3c152ee9d7",
   "metadata": {},
   "outputs": [],
   "source": [
    "class car():\n",
    "    def speed(self):   #method\n",
    "        print(\"truck speed is 150km/hr\")\n",
    "    def fuel_cap(self):\n",
    "        print(\"fuel cap is 15 l\")"
   ]
  },
  {
   "cell_type": "code",
   "execution_count": 3,
   "id": "2940ac41-19ea-4d73-92b7-0235a95ba4f5",
   "metadata": {},
   "outputs": [],
   "source": [
    "a=truck()"
   ]
  },
  {
   "cell_type": "code",
   "execution_count": 4,
   "id": "137f1f0e-8a68-4dd9-96b1-475f3c9b26ef",
   "metadata": {},
   "outputs": [
    {
     "name": "stdout",
     "output_type": "stream",
     "text": [
      "<class '__main__.truck'>\n",
      "<__main__.truck object at 0x000001D4DA0660D0>\n"
     ]
    }
   ],
   "source": [
    "print(truck)\n",
    "print(a)"
   ]
  },
  {
   "cell_type": "code",
   "execution_count": 5,
   "id": "49e7ce6d-e199-408a-9c1d-17ed7153ce1a",
   "metadata": {},
   "outputs": [
    {
     "name": "stdout",
     "output_type": "stream",
     "text": [
      "truck speed is 100km/hr\n",
      "fuel cap is 50 l\n"
     ]
    }
   ],
   "source": [
    "a.speed()\n",
    "a.fuel_cap()"
   ]
  },
  {
   "cell_type": "code",
   "execution_count": 6,
   "id": "9c107cfd-3169-4701-9242-a31530ba0d1a",
   "metadata": {},
   "outputs": [
    {
     "name": "stdout",
     "output_type": "stream",
     "text": [
      "truck speed is 150km/hr\n",
      "fuel cap is 15 l\n"
     ]
    }
   ],
   "source": [
    "b=car()\n",
    "b.speed()\n",
    "b.fuel_cap()"
   ]
  },
  {
   "cell_type": "code",
   "execution_count": 7,
   "id": "8f90502d-2864-415d-9623-e96dc9591e83",
   "metadata": {},
   "outputs": [],
   "source": [
    "class calc():\n",
    "    def add(self,a,b):\n",
    "        return a+b\n",
    "    def sub(self,a,b):\n",
    "        return a-b\n",
    "    def mul(self,a,b):\n",
    "        return a*b\n",
    "    def div(self,a,b):\n",
    "        return a/b"
   ]
  },
  {
   "cell_type": "code",
   "execution_count": 14,
   "id": "a0a2752f-522e-4bf6-9927-a49126e5a381",
   "metadata": {},
   "outputs": [
    {
     "name": "stdout",
     "output_type": "stream",
     "text": [
      "9\n",
      "1.25\n",
      "35\n",
      "20\n"
     ]
    }
   ],
   "source": [
    "obj=calc()\n",
    "a=obj.add(5,4)\n",
    "print(a)\n",
    "a=obj.div(5,4)\n",
    "print(a)\n",
    "a=obj.sub(39,4)\n",
    "print(a)\n",
    "a=obj.mul(5,4)\n",
    "print(a)"
   ]
  },
  {
   "cell_type": "code",
   "execution_count": 21,
   "id": "46219c92-6905-48c3-9545-e8b896c3feb6",
   "metadata": {},
   "outputs": [],
   "source": [
    "##Constructor\n",
    "class hotel():\n",
    "    def floor(self,a):\n",
    "        if a==1:\n",
    "            print(\"Veg floor\")\n",
    "        elif a==2:\n",
    "            print(\"Non veg floor\")\n",
    "            \n",
    "    def dish(self,a):\n",
    "        if a==1:\n",
    "            print(\"Veg Biriyani\")\n",
    "        elif a==2:\n",
    "            print(\"Non veg Biriyani\")       "
   ]
  },
  {
   "cell_type": "code",
   "execution_count": 22,
   "id": "79fdb632-0130-49a9-8f9b-04ff9195803c",
   "metadata": {},
   "outputs": [
    {
     "name": "stdout",
     "output_type": "stream",
     "text": [
      "Veg floor\n",
      "Veg Biriyani\n",
      "Non veg Biriyani\n"
     ]
    }
   ],
   "source": [
    "a=hotel()\n",
    "a.floor(1)\n",
    "a.dish(1)\n",
    "a.dish(2)   #wrong\n",
    "\n"
   ]
  },
  {
   "cell_type": "code",
   "execution_count": 23,
   "id": "88c676e7-54d4-477f-a9de-a432acc1707e",
   "metadata": {},
   "outputs": [],
   "source": [
    "##Constructor\n",
    "## one time configuration for the class , variables stored in instance variable(ie , self.hotelfloor is like a cache memory \n",
    "## inside the class)\n",
    "class hotel():\n",
    "    \n",
    "    def __init__(self,flr):    ##_ _ init_ _ constructor, initializer\n",
    "        print(\"inside the construtor\")\n",
    "        self.hotelfloor = flr\n",
    "        \n",
    "    def floor(self):\n",
    "        if self.hotelfloor==1:\n",
    "            print(\"Veg floor\")\n",
    "        elif self.hotelfloor==2:\n",
    "            print(\"Non veg floor\")\n",
    "            \n",
    "    def dish(self):\n",
    "        if self.hotelfloor==1:\n",
    "            print(\"Veg Biriyani\")\n",
    "        elif self.hotelfloor==2:\n",
    "            print(\"Non veg Biriyani\") "
   ]
  },
  {
   "cell_type": "code",
   "execution_count": 24,
   "id": "e029ee2c-6c1f-4478-a5b8-f3369e2f9b59",
   "metadata": {},
   "outputs": [
    {
     "name": "stdout",
     "output_type": "stream",
     "text": [
      "inside the construtor\n",
      "Veg floor\n",
      "Veg Biriyani\n",
      "inside the construtor\n",
      "Non veg floor\n",
      "Non veg Biriyani\n"
     ]
    }
   ],
   "source": [
    "a=hotel(1)\n",
    "a.floor()\n",
    "a.dish()\n",
    "\n",
    "b=hotel(2)\n",
    "b.floor()\n",
    "b.dish()"
   ]
  },
  {
   "cell_type": "code",
   "execution_count": 25,
   "id": "a5c7f6b2-07ab-4f7f-9306-a5daee1fe0d8",
   "metadata": {},
   "outputs": [],
   "source": [
    "class gold():\n",
    "    def bill_rate(self, rate, gram):\n",
    "        amount = rate * gram\n",
    "        print(f\"your bill amount is {amount}\")"
   ]
  },
  {
   "cell_type": "code",
   "execution_count": 26,
   "id": "1c5c2d20-c14f-456c-a29f-e0ab5358b494",
   "metadata": {},
   "outputs": [
    {
     "name": "stdout",
     "output_type": "stream",
     "text": [
      "your bill amount is 50000\n",
      "your bill amount is 55000\n"
     ]
    }
   ],
   "source": [
    "a= gold()\n",
    "a.bill_rate(5000,10)\n",
    "\n",
    "b=gold()\n",
    "b.bill_rate(5500,10)"
   ]
  },
  {
   "cell_type": "code",
   "execution_count": 27,
   "id": "a1f38308-2e86-4dcd-9a59-91f7a68e7abc",
   "metadata": {},
   "outputs": [],
   "source": [
    "class gold():\n",
    "    def __init__(self, todays_rate):\n",
    "        self.todays_rate = todays_rate\n",
    "        \n",
    "    def bill_rate(self, gram):\n",
    "        amount = self.todays_rate * gram\n",
    "        print(f\"your bill amount is {amount}\")"
   ]
  },
  {
   "cell_type": "code",
   "execution_count": 29,
   "id": "6d7048fe-4236-4011-a522-f5b1038aea0b",
   "metadata": {},
   "outputs": [
    {
     "name": "stdout",
     "output_type": "stream",
     "text": [
      "your bill amount is 50000\n",
      "your bill amount is 75000\n"
     ]
    }
   ],
   "source": [
    "a=gold(5000)\n",
    "a.bill_rate(10)\n",
    "a.bill_rate(15)"
   ]
  },
  {
   "cell_type": "code",
   "execution_count": 38,
   "id": "b8309358-f567-476a-ab36-9befe1e528b0",
   "metadata": {},
   "outputs": [],
   "source": [
    "##types of variables\n",
    "class employee():\n",
    "    EMP_ID = 1                        ##Static variable\n",
    "    \n",
    "    def __init__(self,name):\n",
    "        self.name=name           #self.name = instance variable\n",
    "        \n",
    "    def display(self,age):    #age = argument to the method\n",
    "        sal=1000             #sal = local vairble\n",
    "        print(self.EMP_ID)\n",
    "        print(self.name)\n",
    "        print(age)\n",
    "        print(sal)"
   ]
  },
  {
   "cell_type": "code",
   "execution_count": 39,
   "id": "a095f245-b59c-42ec-a235-3d17f4056bec",
   "metadata": {},
   "outputs": [
    {
     "ename": "AttributeError",
     "evalue": "'employee' object has no attribute 'employee'",
     "output_type": "error",
     "traceback": [
      "\u001b[1;31m---------------------------------------------------------------------------\u001b[0m",
      "\u001b[1;31mAttributeError\u001b[0m                            Traceback (most recent call last)",
      "\u001b[1;32m~\\AppData\\Local\\Temp\\ipykernel_6364\\2989431232.py\u001b[0m in \u001b[0;36m<module>\u001b[1;34m\u001b[0m\n\u001b[1;32m----> 1\u001b[1;33m \u001b[0ma\u001b[0m\u001b[1;33m.\u001b[0m\u001b[0memployee\u001b[0m\u001b[1;33m(\u001b[0m\u001b[1;34m\"dinesh\"\u001b[0m\u001b[1;33m)\u001b[0m    \u001b[1;31m##reference variable\u001b[0m\u001b[1;33m\u001b[0m\u001b[1;33m\u001b[0m\u001b[0m\n\u001b[0m\u001b[0;32m      2\u001b[0m \u001b[0ma\u001b[0m\u001b[1;33m.\u001b[0m\u001b[0mdisplay\u001b[0m\u001b[1;33m(\u001b[0m\u001b[1;34m\"30\"\u001b[0m\u001b[1;33m)\u001b[0m\u001b[1;33m\u001b[0m\u001b[1;33m\u001b[0m\u001b[0m\n",
      "\u001b[1;31mAttributeError\u001b[0m: 'employee' object has no attribute 'employee'"
     ]
    }
   ],
   "source": [
    "a.employee(\"dinesh\")    ##reference variable\n",
    "a.display(\"30\")"
   ]
  },
  {
   "cell_type": "code",
   "execution_count": 37,
   "id": "69e680d6-1e75-47e3-a414-d1bf9899bb48",
   "metadata": {},
   "outputs": [
    {
     "ename": "TypeError",
     "evalue": "employee() takes no arguments",
     "output_type": "error",
     "traceback": [
      "\u001b[1;31m---------------------------------------------------------------------------\u001b[0m",
      "\u001b[1;31mTypeError\u001b[0m                                 Traceback (most recent call last)",
      "\u001b[1;32m~\\AppData\\Local\\Temp\\ipykernel_6364\\2046075640.py\u001b[0m in \u001b[0;36m<module>\u001b[1;34m\u001b[0m\n\u001b[0;32m      8\u001b[0m        \u001b[0mprint\u001b[0m\u001b[1;33m(\u001b[0m\u001b[0msal\u001b[0m\u001b[1;33m)\u001b[0m\u001b[1;33m\u001b[0m\u001b[1;33m\u001b[0m\u001b[0m\n\u001b[0;32m      9\u001b[0m \u001b[1;33m\u001b[0m\u001b[0m\n\u001b[1;32m---> 10\u001b[1;33m \u001b[0ma\u001b[0m \u001b[1;33m=\u001b[0m \u001b[0memployee\u001b[0m\u001b[1;33m(\u001b[0m\u001b[1;34m\"dinesh\"\u001b[0m\u001b[1;33m)\u001b[0m    \u001b[1;31m### reference variable\u001b[0m\u001b[1;33m\u001b[0m\u001b[1;33m\u001b[0m\u001b[0m\n\u001b[0m\u001b[0;32m     11\u001b[0m \u001b[0ma\u001b[0m\u001b[1;33m.\u001b[0m\u001b[0mdisplay\u001b[0m\u001b[1;33m(\u001b[0m\u001b[1;34m\"30\"\u001b[0m\u001b[1;33m)\u001b[0m\u001b[1;33m\u001b[0m\u001b[1;33m\u001b[0m\u001b[0m\n",
      "\u001b[1;31mTypeError\u001b[0m: employee() takes no arguments"
     ]
    }
   ],
   "source": [
    " class employee():\n",
    "    EMP_ID = 1   \n",
    "    def display(self, age):           ### age  : argument to the method\n",
    "        sal = 1000                  ### sal --> local variable\n",
    "        print(self.EMP_ID)\n",
    "        print(self.name)\n",
    "        print(age)\n",
    "        print(sal)\n",
    "        \n",
    "a = employee(\"dinesh\")    ### reference variable\n",
    "a.display(\"30\")"
   ]
  },
  {
   "cell_type": "code",
   "execution_count": 40,
   "id": "debb564d-3cc6-4522-bd4d-54656ffd4058",
   "metadata": {},
   "outputs": [],
   "source": [
    "##types of variables\n",
    "class employee():\n",
    "    EMP_ID = 1                        ##Static variable\n",
    "    \n",
    "    def __init__(self,name):\n",
    "        self.name=name           #self.name = instance variable\n",
    "        \n",
    "    def display(self,age):    #age = argument to the method\n",
    "        sal=1000             #sal = local vairble\n",
    "        print(self.EMP_ID)\n",
    "        print(self.name)\n",
    "        print(age)\n",
    "        print(sal)"
   ]
  },
  {
   "cell_type": "code",
   "execution_count": 41,
   "id": "b34bf6eb-0917-47bd-85ea-3a6e56233433",
   "metadata": {},
   "outputs": [
    {
     "name": "stdout",
     "output_type": "stream",
     "text": [
      "1\n",
      "dinesh\n",
      "30\n",
      "1000\n"
     ]
    }
   ],
   "source": [
    "a = employee(\"dinesh\")    ### reference variable\n",
    "a.display(\"30\")"
   ]
  },
  {
   "cell_type": "code",
   "execution_count": null,
   "id": "0b5b0506-a350-43ef-9268-126ddfa62e36",
   "metadata": {},
   "outputs": [],
   "source": []
  }
 ],
 "metadata": {
  "kernelspec": {
   "display_name": "Python 3 (ipykernel)",
   "language": "python",
   "name": "python3"
  },
  "language_info": {
   "codemirror_mode": {
    "name": "ipython",
    "version": 3
   },
   "file_extension": ".py",
   "mimetype": "text/x-python",
   "name": "python",
   "nbconvert_exporter": "python",
   "pygments_lexer": "ipython3",
   "version": "3.9.13"
  }
 },
 "nbformat": 4,
 "nbformat_minor": 5
}
